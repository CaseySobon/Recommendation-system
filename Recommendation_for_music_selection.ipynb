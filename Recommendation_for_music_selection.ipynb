{
  "nbformat": 4,
  "nbformat_minor": 0,
  "metadata": {
    "colab": {
      "provenance": [],
      "authorship_tag": "ABX9TyNVEHeT2yloejra9ARs8zoL",
      "include_colab_link": true
    },
    "kernelspec": {
      "name": "python3",
      "display_name": "Python 3"
    },
    "language_info": {
      "name": "python"
    }
  },
  "cells": [
    {
      "cell_type": "markdown",
      "metadata": {
        "id": "view-in-github",
        "colab_type": "text"
      },
      "source": [
        "<a href=\"https://colab.research.google.com/github/CaseySobon/Recommendation-system/blob/main/Recommendation_for_music_selection.ipynb\" target=\"_parent\"><img src=\"https://colab.research.google.com/assets/colab-badge.svg\" alt=\"Open In Colab\"/></a>"
      ]
    },
    {
      "cell_type": "code",
      "execution_count": null,
      "metadata": {
        "id": "xHw7bsV2cCR0"
      },
      "outputs": [],
      "source": [
        "# innstall java\n",
        "!apt-get install openjdk-8-jdk-headless -qq > /dev/null\n",
        "\n",
        "# install spark (change the version number if needed)\n",
        "!wget -q https://archive.apache.org/dist/spark/spark-3.2.1/spark-3.2.1-bin-hadoop3.2.tgz\n",
        "\n",
        "# unzip the spark file to the current folder\n",
        "!tar xf spark-3.2.1-bin-hadoop3.2.tgz\n",
        "\n",
        "# set your spark folder to your system path environment.\n",
        "import os\n",
        "os.environ[\"JAVA_HOME\"] = \"/usr/lib/jvm/java-8-openjdk-amd64\"\n",
        "os.environ[\"SPARK_HOME\"] = \"/content/spark-3.2.1-bin-hadoop3.2\"\n",
        "\n",
        "\n",
        "# install findspark using pip\n",
        "!pip install -q findspark"
      ]
    },
    {
      "cell_type": "code",
      "source": [
        "import findspark\n",
        "\n",
        "findspark.init()\n",
        "\n",
        "from pyspark.sql import SparkSession\n",
        "\n",
        "spark = SparkSession.builder.master(\"local[*]\").getOrCreate()\n",
        "\n",
        "from google.colab import files"
      ],
      "metadata": {
        "id": "sT7nQ-wRcFt_"
      },
      "execution_count": null,
      "outputs": []
    },
    {
      "cell_type": "code",
      "source": [
        "uploaded = files.upload()"
      ],
      "metadata": {
        "colab": {
          "resources": {
            "http://localhost:8080/nbextensions/google.colab/files.js": {
              "data": "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",
              "ok": true,
              "headers": [
                [
                  "content-type",
                  "application/javascript"
                ]
              ],
              "status": 200,
              "status_text": ""
            }
          },
          "base_uri": "https://localhost:8080/",
          "height": 74
        },
        "id": "_jYDyAajcF13",
        "outputId": "a0af17e0-e8a9-4e44-fbad-7e223f38b7cf"
      },
      "execution_count": null,
      "outputs": [
        {
          "output_type": "display_data",
          "data": {
            "text/plain": [
              "<IPython.core.display.HTML object>"
            ],
            "text/html": [
              "\n",
              "     <input type=\"file\" id=\"files-0822b4f9-a209-4e02-86f9-9407e6d2ba26\" name=\"files[]\" multiple disabled\n",
              "        style=\"border:none\" />\n",
              "     <output id=\"result-0822b4f9-a209-4e02-86f9-9407e6d2ba26\">\n",
              "      Upload widget is only available when the cell has been executed in the\n",
              "      current browser session. Please rerun this cell to enable.\n",
              "      </output>\n",
              "      <script src=\"/nbextensions/google.colab/files.js\"></script> "
            ]
          },
          "metadata": {}
        },
        {
          "output_type": "stream",
          "name": "stdout",
          "text": [
            "Saving trainItem.data to trainItem.data\n"
          ]
        }
      ]
    },
    {
      "cell_type": "code",
      "source": [
        "from pyspark.ml.evaluation import RegressionEvaluator\n",
        "from pyspark.ml.recommendation import ALS\n",
        "from pyspark.ml.classification import LogisticRegression\n",
        "from pyspark.ml.feature import OneHotEncoder, StringIndexer, VectorAssembler\n",
        "from pyspark.sql.functions import min, max, col\n",
        "from pyspark.sql import functions as F\n",
        "from pyspark.sql.functions import lit\n",
        "from pyspark.ml import Pipeline\n",
        "import matplotlib.pyplot as plt\n",
        "from pyspark.sql.types import IntegerType\n",
        "import pandas as pd\n",
        "import numpy as np"
      ],
      "metadata": {
        "id": "Uni4ck7QcF5g"
      },
      "execution_count": null,
      "outputs": []
    },
    {
      "cell_type": "code",
      "source": [
        "training = spark.read.csv(\"trainItem.data\", header = False)\n",
        "training = training.withColumnRenamed(\"_c0\", \"userID\").withColumnRenamed(\"_c1\", \"itemID\").withColumnRenamed(\"_c2\", \"rating\").orderBy('userID')\n",
        "\n",
        "training = training.withColumn(\"userID\", training[\"userID\"].cast(IntegerType()))\n",
        "training = training.withColumn(\"itemID\", training[\"itemID\"].cast(IntegerType()))\n",
        "training = training.withColumn(\"rating\", training[\"rating\"].cast('float'))\n",
        "\n",
        "print((training.count(), len(training.columns)))\n",
        "\n"
      ],
      "metadata": {
        "colab": {
          "base_uri": "https://localhost:8080/"
        },
        "id": "CjZsRNtieTD8",
        "outputId": "25b8d145-a5d3-40b2-d1a4-db08db622249"
      },
      "execution_count": null,
      "outputs": [
        {
          "output_type": "stream",
          "name": "stdout",
          "text": [
            "(12403575, 3)\n"
          ]
        }
      ]
    },
    {
      "cell_type": "code",
      "source": [
        "als = ALS(\n",
        "    maxIter=10,\n",
        "    rank = 7,\n",
        "    regParam=0.01,\n",
        "    userCol=\"userID\",\n",
        "    itemCol=\"itemID\",\n",
        "    ratingCol=\"rating\",\n",
        "    nonnegative = True,\n",
        "    implicitPrefs = False,\n",
        "    coldStartStrategy=\"nan\"\n",
        ")\n"
      ],
      "metadata": {
        "id": "mg2JUxfveTNV"
      },
      "execution_count": null,
      "outputs": []
    },
    {
      "cell_type": "code",
      "source": [
        "model = als.fit(training)"
      ],
      "metadata": {
        "id": "27U5Myw1eTVd"
      },
      "execution_count": null,
      "outputs": []
    },
    {
      "cell_type": "code",
      "source": [
        "testing = spark.read.csv(\"testItem.data\", header = False)\n",
        "testing = testing.withColumnRenamed(\"_c0\", \"userID\").withColumnRenamed(\"_c1\", \"itemID\").withColumnRenamed(\"_c2\", \"rating\").orderBy('rating',assending=True)\n",
        "testing = testing.withColumn(\"userID\", testing[\"userID\"].cast(IntegerType()))\n",
        "testing = testing.withColumn(\"itemID\", testing[\"itemID\"].cast(IntegerType()))\n",
        "testing = testing.withColumn(\"rating\", testing[\"rating\"].cast('float'))\n",
        "\n",
        "\n",
        "print((testing.count(), len(testing.columns)))\n"
      ],
      "metadata": {
        "id": "y1Lvng5aenn3",
        "colab": {
          "base_uri": "https://localhost:8080/"
        },
        "outputId": "281c6dbe-ed43-46db-fca6-b22be2acb83a"
      },
      "execution_count": null,
      "outputs": [
        {
          "output_type": "stream",
          "name": "stdout",
          "text": [
            "(120000, 3)\n"
          ]
        }
      ]
    },
    {
      "cell_type": "code",
      "source": [
        "predictions_track = model.transform(testing).orderBy('userID').fillna(20)\n",
        "predictions_track = predictions_track.select('userID','itemID','prediction').withColumnRenamed('prediction','ptrack').withColumnRenamed('itemID','trackID')\n",
        "predictions_track.show(16)\n",
        "\n",
        "predictions_track.select('ptrack').describe().show()"
      ],
      "metadata": {
        "colab": {
          "base_uri": "https://localhost:8080/"
        },
        "id": "q2JJwMjqenqu",
        "outputId": "a8430ca0-73e2-4e2b-c141-ff867c9b9fca"
      },
      "execution_count": null,
      "outputs": [
        {
          "output_type": "stream",
          "name": "stdout",
          "text": [
            "+------+-------+---------+\n",
            "|userID|trackID|   ptrack|\n",
            "+------+-------+---------+\n",
            "|199810|  74139| 84.71382|\n",
            "|199810| 242681| 62.24705|\n",
            "|199810|   9903| 67.05974|\n",
            "|199810| 208019|62.093025|\n",
            "|199810|  18515|   76.044|\n",
            "|199810| 105760|61.343338|\n",
            "|199812| 211361|110.85896|\n",
            "|199812|  29189| 83.19683|\n",
            "|199812| 142408|97.582375|\n",
            "|199812| 223706| 89.01981|\n",
            "|199812| 276940|37.979412|\n",
            "|199812| 130023|103.94401|\n",
            "|199813|  20968|23.017673|\n",
            "|199813|  21571| 7.754678|\n",
            "|199813| 188441|7.0513606|\n",
            "|199813| 184173|27.387327|\n",
            "+------+-------+---------+\n",
            "only showing top 16 rows\n",
            "\n",
            "+-------+-----------------+\n",
            "|summary|           ptrack|\n",
            "+-------+-----------------+\n",
            "|  count|           120000|\n",
            "|   mean|72.84750238832345|\n",
            "| stddev|76.07917496596235|\n",
            "|    min|              0.0|\n",
            "|    max|        4818.1494|\n",
            "+-------+-----------------+\n",
            "\n"
          ]
        }
      ]
    },
    {
      "cell_type": "code",
      "source": [
        "predictions.select('prediction').describe().show()"
      ],
      "metadata": {
        "id": "no6T8hKTentH"
      },
      "execution_count": null,
      "outputs": []
    },
    {
      "cell_type": "code",
      "source": [
        "x1 = pd.read_csv('testTrack_hierarchy.txt', sep='|', header=None, names=range(14),na_values='None',dtype=str).values\n",
        "\n",
        "x2=pd.DataFrame(x1)\n",
        "x3=x2.fillna(0)\n",
        "x3[:] = x3[:].astype(int)\n",
        "H_DF=spark.createDataFrame(x3).withColumnRenamed(\"0\", \"userID\").withColumnRenamed(\"1\", \"trackID\").withColumnRenamed(\"2\", \"albumID\")\\\n",
        ".withColumnRenamed(\"3\", \"artistID\").withColumnRenamed(\"4\", \"itemID3\").withColumnRenamed(\"5\", \"itemID4\").withColumnRenamed(\"6\", \"itemID5\")\\\n",
        ".withColumnRenamed(\"7\", \"itemID6\").withColumnRenamed(\"8\", \"itemID7\").withColumnRenamed(\"9\", \"itemID8\").withColumnRenamed(\"10\", \"itemID9\")\\\n",
        ".withColumnRenamed(\"11\", \"itemID10\").withColumnRenamed(\"12\", \"itemID11\").withColumnRenamed(\"13\", \"itemID12\")\n",
        "\n"
      ],
      "metadata": {
        "id": "h0-fVFAowlE3"
      },
      "execution_count": null,
      "outputs": []
    },
    {
      "cell_type": "code",
      "source": [
        "H_DF.show(6)"
      ],
      "metadata": {
        "colab": {
          "base_uri": "https://localhost:8080/"
        },
        "id": "jP8ib2lzHd3Z",
        "outputId": "db2efcec-4ea9-4028-9a37-1d3c6d3f701e"
      },
      "execution_count": null,
      "outputs": [
        {
          "output_type": "stream",
          "name": "stdout",
          "text": [
            "+------+-------+-------+--------+-------+-------+-------+-------+-------+-------+-------+--------+--------+--------+\n",
            "|userID|trackID|albumID|artistID|itemID3|itemID4|itemID5|itemID6|itemID7|itemID8|itemID9|itemID10|itemID11|itemID12|\n",
            "+------+-------+-------+--------+-------+-------+-------+-------+-------+-------+-------+--------+--------+--------+\n",
            "|199810| 208019| 209288|       0|      0|      0|      0|      0|      0|      0|      0|       0|       0|       0|\n",
            "|199810|  74139| 277282|  271146| 113360| 173467| 173655| 192976| 146792|  48505| 133159|       0|       0|       0|\n",
            "|199810|   9903|      0|       0|  33722| 123396|  79926|  73523|      0|      0|      0|       0|       0|       0|\n",
            "|199810| 242681| 190640|  244574|  61215|  17453| 274088|      0|      0|      0|      0|       0|       0|       0|\n",
            "|199810|  18515| 146344|   33168|  19913|  48505| 154024|      0|      0|      0|      0|       0|       0|       0|\n",
            "|199810| 105760|  93458|   11616| 131552| 173467|  48505| 133159|      0|      0|      0|       0|       0|       0|\n",
            "+------+-------+-------+--------+-------+-------+-------+-------+-------+-------+-------+--------+--------+--------+\n",
            "only showing top 6 rows\n",
            "\n"
          ]
        }
      ]
    },
    {
      "cell_type": "code",
      "source": [
        "testing_album = H_DF.select('userID','trackID','albumID').withColumn('rating',lit(0)).withColumnRenamed('albumID','itemID').orderBy('userID')\n",
        "\n",
        "testing_album = testing_album.withColumnRenamed(\"_c0\", \"userID\").withColumnRenamed(\"_c1\", \"itemID\").withColumnRenamed(\"_c2\", \"rating\").orderBy('rating',assending=True)\n",
        "testing_album = testing_album.withColumn(\"userID\", testing_album[\"userID\"].cast(IntegerType()))\n",
        "testing_album = testing_album.withColumn(\"trackID\", testing_album[\"trackID\"].cast(IntegerType()))\n",
        "testing_album = testing_album.withColumn(\"itemID\", testing_album[\"itemID\"].cast(IntegerType()))\n",
        "testing_album = testing_album.withColumn(\"rating\", testing_album[\"rating\"].cast('float'))\n",
        "testing_album=testing_album.where(\"itemID!=0\")\n",
        "testing_album.show(3)\n",
        "\n",
        "print((testing_album.count(), len(testing_album.columns)))"
      ],
      "metadata": {
        "colab": {
          "base_uri": "https://localhost:8080/"
        },
        "id": "abG1xX5ew9W6",
        "outputId": "20ed7c37-300f-4361-b4b9-8c01568d29b4"
      },
      "execution_count": null,
      "outputs": [
        {
          "output_type": "stream",
          "name": "stdout",
          "text": [
            "+------+-------+------+------+\n",
            "|userID|trackID|itemID|rating|\n",
            "+------+-------+------+------+\n",
            "|199810| 208019|209288|   0.0|\n",
            "|199810|  74139|277282|   0.0|\n",
            "|199810| 242681|190640|   0.0|\n",
            "+------+-------+------+------+\n",
            "only showing top 3 rows\n",
            "\n",
            "(111427, 4)\n"
          ]
        }
      ]
    },
    {
      "cell_type": "code",
      "source": [
        "predictions_album = model.transform(testing_album).orderBy('userID').fillna(20)\n",
        "predictions_album = predictions_album.select('userID','trackID','prediction').withColumnRenamed('prediction','palbum')\n",
        "predictions_album.show(16)\n",
        "\n",
        "predictions_album.select('palbum').describe().show()"
      ],
      "metadata": {
        "colab": {
          "base_uri": "https://localhost:8080/"
        },
        "id": "qSJnPf3gP43f",
        "outputId": "6d683f71-6734-4445-cba3-f13b4a909009"
      },
      "execution_count": null,
      "outputs": [
        {
          "output_type": "stream",
          "name": "stdout",
          "text": [
            "+------+-------+---------+\n",
            "|userID|trackID|   palbum|\n",
            "+------+-------+---------+\n",
            "|199810|  74139| 83.42785|\n",
            "|199810| 242681|61.945484|\n",
            "|199810|  18515|74.734535|\n",
            "|199810| 105760| 65.63859|\n",
            "|199810| 208019|56.200005|\n",
            "|199812| 211361| 38.04132|\n",
            "|199812| 130023|102.65184|\n",
            "|199812| 142408|101.67205|\n",
            "|199812| 276940|21.353056|\n",
            "|199812| 223706|87.489075|\n",
            "|199812|  29189| 83.51416|\n",
            "|199813| 188441| 28.22972|\n",
            "|199813| 184173|28.558048|\n",
            "|199813|  79640| 68.10348|\n",
            "|199813|  21571|70.122856|\n",
            "|199813| 111874|44.086304|\n",
            "+------+-------+---------+\n",
            "only showing top 16 rows\n",
            "\n",
            "+-------+-----------------+\n",
            "|summary|           palbum|\n",
            "+-------+-----------------+\n",
            "|  count|           111427|\n",
            "|   mean|65.82174003635534|\n",
            "| stddev|45.17700684568396|\n",
            "|    min|              0.0|\n",
            "|    max|        2952.9219|\n",
            "+-------+-----------------+\n",
            "\n"
          ]
        }
      ]
    },
    {
      "cell_type": "code",
      "source": [
        "testing_artist = H_DF.select('userID','trackID','artistID').withColumn('rating',lit(0)).withColumnRenamed('artistID','itemID').orderBy('userID')\n",
        "\n",
        "testing_artist = testing_artist.withColumnRenamed(\"_c0\", \"userID\").withColumnRenamed(\"_c1\", \"itemID\").withColumnRenamed(\"_c2\", \"rating\").orderBy('rating',assending=True)\n",
        "testing_artist = testing_artist.withColumn(\"userID\", testing_artist[\"userID\"].cast(IntegerType()))\n",
        "testing_artist = testing_artist.withColumn(\"trackID\", testing_artist[\"trackID\"].cast(IntegerType()))\n",
        "testing_artist = testing_artist.withColumn(\"itemID\", testing_artist[\"itemID\"].cast(IntegerType()))\n",
        "testing_artist = testing_artist.withColumn(\"rating\", testing_artist[\"rating\"].cast('float'))\n",
        "testing_artist=testing_artist.where(\"itemID!=0\")\n",
        "testing_artist.show(3)\n",
        "\n",
        "print((testing_artist.count(), len(testing_artist.columns)))"
      ],
      "metadata": {
        "colab": {
          "base_uri": "https://localhost:8080/"
        },
        "id": "gTX8ZCGbJ-Ou",
        "outputId": "add0074c-7654-44f9-bc2c-c21492d97a9e"
      },
      "execution_count": null,
      "outputs": [
        {
          "output_type": "stream",
          "name": "stdout",
          "text": [
            "+------+-------+------+------+\n",
            "|userID|trackID|itemID|rating|\n",
            "+------+-------+------+------+\n",
            "|199810|  74139|271146|   0.0|\n",
            "|199810| 242681|244574|   0.0|\n",
            "|199810|  18515| 33168|   0.0|\n",
            "+------+-------+------+------+\n",
            "only showing top 3 rows\n",
            "\n",
            "(109109, 4)\n"
          ]
        }
      ]
    },
    {
      "cell_type": "code",
      "source": [
        "predictions_artist = model.transform(testing_artist).orderBy(['userID']).fillna(20)\n",
        "predictions_artist=predictions_artist.withColumnRenamed('prediction','partist').select('userID','trackID','partist')\n",
        "predictions_artist.show(3)\n",
        "\n",
        "predictions_artist.select('partist').describe().show()"
      ],
      "metadata": {
        "colab": {
          "base_uri": "https://localhost:8080/"
        },
        "id": "jXq5kDVv0A8w",
        "outputId": "fa216729-d79e-4672-80c7-f71e2d0ac52b"
      },
      "execution_count": null,
      "outputs": [
        {
          "output_type": "stream",
          "name": "stdout",
          "text": [
            "+------+-------+--------+\n",
            "|userID|trackID| partist|\n",
            "+------+-------+--------+\n",
            "|199810| 105760|73.41089|\n",
            "|199810| 242681|64.58747|\n",
            "|199810|  18515|76.67925|\n",
            "+------+-------+--------+\n",
            "only showing top 3 rows\n",
            "\n",
            "+-------+-----------------+\n",
            "|summary|          partist|\n",
            "+-------+-----------------+\n",
            "|  count|           109109|\n",
            "|   mean|61.58091618657883|\n",
            "| stddev|30.96084296299067|\n",
            "|    min|              0.0|\n",
            "|    max|        2388.3396|\n",
            "+-------+-----------------+\n",
            "\n"
          ]
        }
      ]
    },
    {
      "cell_type": "code",
      "source": [
        "predict_matrix=predictions_track.join(predictions_album, ['userID','trackID'],'left').orderBy('userID').fillna(20)\n",
        "predict_matrix=predict_matrix.join(predictions_artist, ['userID','trackID'],'left').orderBy('userID').fillna(20)\n",
        "\n",
        "predict_matrix.show(6)\n",
        "predict_matrix.select('palbum').describe().show()"
      ],
      "metadata": {
        "colab": {
          "base_uri": "https://localhost:8080/"
        },
        "id": "dWFM2HyA260r",
        "outputId": "97ebbb2c-63fd-49a5-c1ed-9bfe27a1ffd6"
      },
      "execution_count": null,
      "outputs": [
        {
          "output_type": "stream",
          "name": "stdout",
          "text": [
            "+------+-------+---------+---------+---------+\n",
            "|userID|trackID|   ptrack|   palbum|  partist|\n",
            "+------+-------+---------+---------+---------+\n",
            "|199810| 105760|61.343338| 65.63859| 73.41089|\n",
            "|199810|   9903| 67.05974|     20.0|     20.0|\n",
            "|199810|  74139| 84.71382| 83.42785|62.185196|\n",
            "|199810| 208019|62.093025|56.200005|     20.0|\n",
            "|199810|  18515|   76.044|74.734535| 76.67925|\n",
            "|199810| 242681| 62.24705|61.945484| 64.58747|\n",
            "+------+-------+---------+---------+---------+\n",
            "only showing top 6 rows\n",
            "\n",
            "+-------+------------------+\n",
            "|summary|            palbum|\n",
            "+-------+------------------+\n",
            "|  count|            120000|\n",
            "|   mean|62.548158558591375|\n",
            "| stddev|45.104734050828085|\n",
            "|    min|               0.0|\n",
            "|    max|         2952.9219|\n",
            "+-------+------------------+\n",
            "\n"
          ]
        }
      ]
    },
    {
      "cell_type": "code",
      "source": [],
      "metadata": {
        "id": "iTcy1gv44vM1"
      },
      "execution_count": null,
      "outputs": []
    },
    {
      "cell_type": "code",
      "source": [
        "from pyspark.sql.functions import array, col, explode, lit, struct\n",
        "from pyspark.sql import DataFrame\n",
        "from typing import Iterable\n",
        "def melt(H_DF: DataFrame, id_vars: Iterable[str], value_vars: Iterable[str], var_name: str=\"variable\", value_name: str=\"value\") -> DataFrame:\n",
        "    \"\"\"Convert :class:`DataFrame` from wide to long format.\"\"\"\n",
        "\n",
        "    # Create array<struct<variable: str, value: ...>>\n",
        "    _vars_and_vals = array(*(struct(lit(c).alias(var_name), col(c).alias(value_name)) for c in value_vars))\n",
        "\n",
        "    # Add to the DataFrame and explode\n",
        "    _tmp = H_DF.withColumn(\"_vars_and_vals\", explode(_vars_and_vals))\n",
        "\n",
        "    cols = id_vars + [col(\"_vars_and_vals\")[x].alias(x) for x in [var_name, value_name]]\n",
        "    return _tmp.select(*cols)\n",
        "\n",
        "melted_H = melt(H_DF,id_vars=['userID','trackID','albumID','artistID'],value_vars=['itemID3','itemID4','itemID5', 'itemID6','itemID7', 'itemID8','itemID9',\\\n",
        "                                                            'itemID10', 'itemID11','itemID12'])\n",
        "\n",
        "\n",
        "melted_H=melted_H.where(\"value!=0\")\n",
        "melted_H=melted_H.withColumnRenamed(\"value\", \"itemID\")\n",
        "\n",
        "\n",
        "melted_H.select('itemID').describe().show()\n",
        "melted_H.show(5)"
      ],
      "metadata": {
        "id": "THW-uBgL_HsL",
        "colab": {
          "base_uri": "https://localhost:8080/"
        },
        "outputId": "10d34cca-4ec0-4673-b375-f4cef105fd89"
      },
      "execution_count": null,
      "outputs": [
        {
          "output_type": "stream",
          "name": "stdout",
          "text": [
            "+-------+------------------+\n",
            "|summary|            itemID|\n",
            "+-------+------------------+\n",
            "|  count|            409994|\n",
            "|   mean|132865.49718044655|\n",
            "| stddev| 80155.78393975903|\n",
            "|    min|              3969|\n",
            "|    max|            294310|\n",
            "+-------+------------------+\n",
            "\n",
            "+------+-------+-------+--------+--------+------+\n",
            "|userID|trackID|albumID|artistID|variable|itemID|\n",
            "+------+-------+-------+--------+--------+------+\n",
            "|199810|  74139| 277282|  271146| itemID3|113360|\n",
            "|199810|  74139| 277282|  271146| itemID4|173467|\n",
            "|199810|  74139| 277282|  271146| itemID5|173655|\n",
            "|199810|  74139| 277282|  271146| itemID6|192976|\n",
            "|199810|  74139| 277282|  271146| itemID7|146792|\n",
            "+------+-------+-------+--------+--------+------+\n",
            "only showing top 5 rows\n",
            "\n"
          ]
        }
      ]
    },
    {
      "cell_type": "code",
      "source": [
        "predictions_genre = model.transform(melted_H).orderBy(['userID','trackID']).fillna(20)\n",
        "predictions_genre = predictions_genre.select('userID','trackID','prediction').withColumnRenamed('prediction','pgene')\n",
        "\n",
        "predictions_genre.show(16)\n",
        "predictions_genre.select('pgene').describe().show()"
      ],
      "metadata": {
        "colab": {
          "base_uri": "https://localhost:8080/"
        },
        "id": "VYDZEYur_ojJ",
        "outputId": "ac781b58-c5e8-4232-f467-22eba2965544"
      },
      "execution_count": null,
      "outputs": [
        {
          "output_type": "stream",
          "name": "stdout",
          "text": [
            "+------+-------+---------+\n",
            "|userID|trackID|    pgene|\n",
            "+------+-------+---------+\n",
            "|199810|   9903|  46.0127|\n",
            "|199810|   9903|53.750237|\n",
            "|199810|   9903|44.256237|\n",
            "|199810|   9903|59.234833|\n",
            "|199810|  18515|27.577723|\n",
            "|199810|  18515|78.993126|\n",
            "|199810|  18515| 64.90471|\n",
            "|199810|  74139|78.993126|\n",
            "|199810|  74139|25.423084|\n",
            "|199810|  74139|73.000725|\n",
            "|199810|  74139| 73.78022|\n",
            "|199810|  74139| 56.93692|\n",
            "|199810|  74139| 48.85546|\n",
            "|199810|  74139| 72.22985|\n",
            "|199810| 105760| 72.22985|\n",
            "|199810| 105760|73.000725|\n",
            "+------+-------+---------+\n",
            "only showing top 16 rows\n",
            "\n",
            "+-------+-----------------+\n",
            "|summary|            pgene|\n",
            "+-------+-----------------+\n",
            "|  count|           409994|\n",
            "|   mean|57.53658174360858|\n",
            "| stddev|30.13997244988061|\n",
            "|    min|              0.0|\n",
            "|    max|         2851.458|\n",
            "+-------+-----------------+\n",
            "\n"
          ]
        }
      ]
    },
    {
      "cell_type": "code",
      "source": [
        "from pyspark.sql.functions import udf\n",
        "from pyspark.sql.types import *\n",
        "\n",
        "fn_l = [F.min,F.max,F.mean,F.variance,F.stddev]\n",
        "col_l=['pgene']\n",
        "expr = [fn(coln).alias(str(fn.__name__)+'_'+str(coln)) for fn in fn_l for coln in col_l]\n",
        "tst_r = predictions_genre.groupby('userID','trackID').agg(*expr).fillna(0)\n",
        "tst_r = tst_r.orderBy(['userID','trackID'])\n",
        "tst_r.show(6)\n",
        "tst_r.select('stddev_pgene').describe().show()"
      ],
      "metadata": {
        "colab": {
          "base_uri": "https://localhost:8080/"
        },
        "id": "k-olWfAdZvvk",
        "outputId": "01b499df-181c-498d-909f-442d2f3b7094"
      },
      "execution_count": null,
      "outputs": [
        {
          "output_type": "stream",
          "name": "stdout",
          "text": [
            "+------+-------+---------+---------+------------------+------------------+------------------+\n",
            "|userID|trackID|min_pgene|max_pgene|        mean_pgene|    variance_pgene|      stddev_pgene|\n",
            "+------+-------+---------+---------+------------------+------------------+------------------+\n",
            "|199810|   9903|44.256237|59.234833| 50.81350135803223|  48.5295511768442|6.9663154663598315|\n",
            "|199810|  18515|27.577723|78.993126| 57.15851910909017| 705.8885175940098|26.568562580501222|\n",
            "|199810|  74139|25.423084|78.993126| 61.31705529349191| 364.3708759446474|19.088501144528017|\n",
            "|199810| 105760| 67.53468|78.993126| 72.93959617614746|22.121927179410704| 4.703395282071315|\n",
            "|199810| 242681| 38.34801| 48.20907|43.168103535970054| 24.34670108810436|4.9342376400113075|\n",
            "|199812|  29189| 78.38157|100.42924|  88.9797757466634|61.277375997566104| 7.827986714191977|\n",
            "+------+-------+---------+---------+------------------+------------------+------------------+\n",
            "only showing top 6 rows\n",
            "\n",
            "+-------+------------------+\n",
            "|summary|      stddev_pgene|\n",
            "+-------+------------------+\n",
            "|  count|            118182|\n",
            "|   mean|10.876630615641549|\n",
            "| stddev|15.518286720501939|\n",
            "|    min|               0.0|\n",
            "|    max|1694.9612811116083|\n",
            "+-------+------------------+\n",
            "\n"
          ]
        }
      ]
    },
    {
      "cell_type": "code",
      "source": [
        "predict_matrix=predict_matrix.join(tst_r, ['userID','trackID'],'left').orderBy('userID').fillna(0)\n",
        "\n",
        "predict_matrix.show(6)\n",
        "predict_matrix.select('stddev_pgene').describe().show()"
      ],
      "metadata": {
        "colab": {
          "base_uri": "https://localhost:8080/"
        },
        "id": "xkRdGo05Zv21",
        "outputId": "bb26e66b-5c75-4c1c-bbe6-be76847232c0"
      },
      "execution_count": null,
      "outputs": [
        {
          "output_type": "stream",
          "name": "stdout",
          "text": [
            "+------+-------+---------+---------+---------+---------+---------+------------------+------------------+------------------+\n",
            "|userID|trackID|   ptrack|   palbum|  partist|min_pgene|max_pgene|        mean_pgene|    variance_pgene|      stddev_pgene|\n",
            "+------+-------+---------+---------+---------+---------+---------+------------------+------------------+------------------+\n",
            "|199810| 208019|62.093025|56.200005|     20.0|      0.0|      0.0|               0.0|               0.0|               0.0|\n",
            "|199810|  74139| 84.71382| 83.42785|62.185196|25.423084|78.993126| 61.31705529349191| 364.3708759446474|19.088501144528017|\n",
            "|199810| 242681| 62.24705|61.945484| 64.58747| 38.34801| 48.20907|43.168103535970054| 24.34670108810436|4.9342376400113075|\n",
            "|199810| 105760|61.343338| 65.63859| 73.41089| 67.53468|78.993126| 72.93959617614746|22.121927179410704| 4.703395282071315|\n",
            "|199810|  18515|   76.044|74.734535| 76.67925|27.577723|78.993126| 57.15851910909017| 705.8885175940098|26.568562580501222|\n",
            "|199810|   9903| 67.05974|     20.0|     20.0|44.256237|59.234833| 50.81350135803223|  48.5295511768442|6.9663154663598315|\n",
            "+------+-------+---------+---------+---------+---------+---------+------------------+------------------+------------------+\n",
            "only showing top 6 rows\n",
            "\n",
            "+-------+------------------+\n",
            "|summary|      stddev_pgene|\n",
            "+-------+------------------+\n",
            "|  count|            120000|\n",
            "|   mean|10.711849661814524|\n",
            "| stddev|15.457487988857014|\n",
            "|    min|               0.0|\n",
            "|    max|1694.9612811116083|\n",
            "+-------+------------------+\n",
            "\n"
          ]
        }
      ]
    },
    {
      "cell_type": "code",
      "source": [
        "raw_df = spark.read.csv(\"merged_raw.csv\", header = True)\n",
        "raw_df.show(5)"
      ],
      "metadata": {
        "colab": {
          "base_uri": "https://localhost:8080/"
        },
        "id": "3a4oRRvV72gQ",
        "outputId": "7f38e9e0-9dfe-4c28-9287-7fcef9a44359"
      },
      "execution_count": null,
      "outputs": [
        {
          "output_type": "stream",
          "name": "stdout",
          "text": [
            "+------+-------+---------+\n",
            "|userID|trackID|Predictor|\n",
            "+------+-------+---------+\n",
            "|199810|   9903|      0.0|\n",
            "|199810| 208019|      0.0|\n",
            "|199810|  74139|     80.0|\n",
            "|199810|  18515|     70.0|\n",
            "|199810| 242681|      0.0|\n",
            "+------+-------+---------+\n",
            "only showing top 5 rows\n",
            "\n"
          ]
        }
      ]
    },
    {
      "cell_type": "code",
      "source": [
        "predict_matrix=predict_matrix.join(raw_df, ['userID','trackID'],'left').orderBy('userID').fillna(0)"
      ],
      "metadata": {
        "id": "fLrLfeiq72jC"
      },
      "execution_count": null,
      "outputs": []
    },
    {
      "cell_type": "code",
      "source": [
        "predict_matrix.show(12)"
      ],
      "metadata": {
        "colab": {
          "base_uri": "https://localhost:8080/"
        },
        "id": "o4u8nxdC72l4",
        "outputId": "d4a19250-01ce-4e5b-bd4f-119a75d721c5"
      },
      "execution_count": null,
      "outputs": [
        {
          "output_type": "stream",
          "name": "stdout",
          "text": [
            "+------+-------+---------+---------+---------+---------+---------+------------------+------------------+------------------+---------+\n",
            "|userID|trackID|   ptrack|   palbum|  partist|min_pgene|max_pgene|        mean_pgene|    variance_pgene|      stddev_pgene|Predictor|\n",
            "+------+-------+---------+---------+---------+---------+---------+------------------+------------------+------------------+---------+\n",
            "|199810|   9903| 67.05974|     20.0|     20.0|44.256237|59.234833| 50.81350135803223|  48.5295511768442|6.9663154663598315|      0.0|\n",
            "|199810| 105760|61.343338| 65.63859| 73.41089| 67.53468|78.993126| 72.93959617614746|22.121927179410704| 4.703395282071315|     90.0|\n",
            "|199810|  74139| 84.71382| 83.42785|62.185196|25.423084|78.993126| 61.31705529349191| 364.3708759446474|19.088501144528017|     80.0|\n",
            "|199810| 208019|62.093025|56.200005|     20.0|      0.0|      0.0|               0.0|               0.0|               0.0|      0.0|\n",
            "|199810| 242681| 62.24705|61.945484| 64.58747| 38.34801| 48.20907|43.168103535970054| 24.34670108810436|4.9342376400113075|      0.0|\n",
            "|199810|  18515|   76.044|74.734535| 76.67925|27.577723|78.993126| 57.15851910909017| 705.8885175940098|26.568562580501222|     70.0|\n",
            "|199812| 130023|103.94401|102.65184|103.02029| 56.18398| 92.84899| 78.01486110687256| 322.7559755710959|17.965410531660442|    100.0|\n",
            "|199812| 211361|110.85896| 38.04132|30.994068| 34.47368| 34.47368| 34.47367858886719|               0.0|               0.0|      0.0|\n",
            "|199812| 276940|37.979412|21.353056|27.622679|34.145832|34.145832| 34.14583206176758|               0.0|               0.0|      0.0|\n",
            "|199812| 223706| 89.01981|87.489075| 94.24673| 68.74647| 92.62971| 77.25764719645183|177.90604646721235|13.338142541868876|    100.0|\n",
            "|199812| 142408|97.582375|101.67205|103.02029| 70.39677|100.42924| 89.37974802652995|102.19067596119523|10.108940397548857|    100.0|\n",
            "|199812|  29189| 83.19683| 83.51416| 92.18163| 78.38157|100.42924|  88.9797757466634|61.277375997566104| 7.827986714191977|     80.0|\n",
            "+------+-------+---------+---------+---------+---------+---------+------------------+------------------+------------------+---------+\n",
            "only showing top 12 rows\n",
            "\n"
          ]
        }
      ]
    },
    {
      "cell_type": "code",
      "source": [],
      "metadata": {
        "id": "WyaOq8Gr72o-"
      },
      "execution_count": null,
      "outputs": []
    },
    {
      "cell_type": "code",
      "source": [],
      "metadata": {
        "id": "GMuzhsp772sC"
      },
      "execution_count": null,
      "outputs": []
    },
    {
      "cell_type": "code",
      "source": [
        "predict_matrix.toPandas().to_csv('predict_matrix2.csv',index=False)"
      ],
      "metadata": {
        "id": "-Tp1e5GiCC45"
      },
      "execution_count": null,
      "outputs": []
    },
    {
      "cell_type": "code",
      "source": [],
      "metadata": {
        "id": "1yVdidUKEhX7"
      },
      "execution_count": null,
      "outputs": []
    },
    {
      "cell_type": "code",
      "source": [],
      "metadata": {
        "id": "d6Feg15KrZ6-"
      },
      "execution_count": null,
      "outputs": []
    },
    {
      "cell_type": "code",
      "source": [],
      "metadata": {
        "id": "Ag3t0IDbMhON"
      },
      "execution_count": null,
      "outputs": []
    }
  ]
}