{
  "nbformat": 4,
  "nbformat_minor": 0,
  "metadata": {
    "colab": {
      "provenance": [],
      "authorship_tag": "ABX9TyOhNJZ6j5kst1Oh/jvC456c",
      "include_colab_link": true
    },
    "kernelspec": {
      "name": "python3",
      "display_name": "Python 3"
    },
    "language_info": {
      "name": "python"
    }
  },
  "cells": [
    {
      "cell_type": "markdown",
      "metadata": {
        "id": "view-in-github",
        "colab_type": "text"
      },
      "source": [
        "<a href=\"https://colab.research.google.com/github/CaseySobon/Recommendation-system/blob/main/Recommendations_with_ensomble.ipynb\" target=\"_parent\"><img src=\"https://colab.research.google.com/assets/colab-badge.svg\" alt=\"Open In Colab\"/></a>"
      ]
    },
    {
      "cell_type": "code",
      "execution_count": null,
      "metadata": {
        "id": "vCZMcE3LVRs-"
      },
      "outputs": [],
      "source": [
        "# innstall java\n",
        "!apt-get install openjdk-8-jdk-headless -qq > /dev/null\n",
        "\n",
        "# install spark (change the version number if needed)\n",
        "!wget -q https://archive.apache.org/dist/spark/spark-3.2.1/spark-3.2.1-bin-hadoop3.2.tgz\n",
        "\n",
        "# unzip the spark file to the current folder\n",
        "!tar xf spark-3.2.1-bin-hadoop3.2.tgz\n",
        "\n",
        "# set your spark folder to your system path environment.\n",
        "import os\n",
        "os.environ[\"JAVA_HOME\"] = \"/usr/lib/jvm/java-8-openjdk-amd64\"\n",
        "os.environ[\"SPARK_HOME\"] = \"/content/spark-3.2.1-bin-hadoop3.2\"\n",
        "\n",
        "\n",
        "# install findspark using pip\n",
        "!pip install -q findspark"
      ]
    },
    {
      "cell_type": "code",
      "source": [
        "import findspark\n",
        "\n",
        "findspark.init()\n",
        "\n",
        "from pyspark.sql import SparkSession\n",
        "\n",
        "spark = SparkSession.builder.master(\"local[*]\").getOrCreate()\n",
        "\n",
        "from google.colab import files"
      ],
      "metadata": {
        "id": "NKX07voubWu3"
      },
      "execution_count": null,
      "outputs": []
    },
    {
      "cell_type": "code",
      "source": [
        "import pandas as pd\n",
        "import numpy as np\n",
        "from pyspark.mllib.linalg.distributed import *\n",
        "from pyspark.sql import functions as f\n",
        "from pyspark.sql.functions import when,concat_ws\n",
        "from pyspark.sql.window import *\n",
        "from pyspark.sql.functions import row_number"
      ],
      "metadata": {
        "id": "0niBPtpbyK_T"
      },
      "execution_count": null,
      "outputs": []
    },
    {
      "cell_type": "code",
      "source": [
        "s_1 = spark.read.csv('cvgbtree_84392.csv', header = True, inferSchema = True)\n",
        "s_1 = s_1.select('TrackID','Predictor').withColumnRenamed('Predictor','s1')\n",
        "\n",
        "s_2 = spark.read.csv('dtree_56969.csv', header = True, inferSchema = True)\n",
        "s_2 = s_2.select('TrackID','Predictor').withColumnRenamed('Predictor','s2')\n",
        "\n",
        "S =s_1.join(s_2, ['TrackID'],'left').orderBy('TrackID')\n",
        "\n",
        "s_3 = spark.read.csv('dtree_57003.csv', header = True, inferSchema = True)\n",
        "s_3 = s_3.select('TrackID','Predictor').withColumnRenamed('Predictor','s3')\n",
        "\n",
        "S =S.join(s_3, ['TrackID'],'left').orderBy('TrackID')\n",
        "\n",
        "s_4 = spark.read.csv('gbtree2_83400.csv', header = True, inferSchema = True)\n",
        "s_4 = s_4.select('TrackID','Predictor').withColumnRenamed('Predictor','s4')\n",
        "\n",
        "S =S.join(s_4, ['TrackID'],'left').orderBy('TrackID')\n",
        "\n",
        "s_5 = spark.read.csv('gbtree_59588.csv', header = True, inferSchema = True)\n",
        "s_5 = s_5.select('TrackID','Predictor').withColumnRenamed('Predictor','s5')\n",
        "\n",
        "S =S.join(s_5, ['TrackID'],'left').orderBy('TrackID')\n",
        "\n",
        "s_6 = spark.read.csv('linear_53983.csv', header = True, inferSchema = True)\n",
        "s_6 = s_6.select('TrackID','Predictor').withColumnRenamed('Predictor','s6')\n",
        "\n",
        "S =S.join(s_6, ['TrackID'],'left').orderBy('TrackID')\n",
        "\n",
        "s_7 = spark.read.csv('linear_56568.csv', header = True, inferSchema = True)\n",
        "s_7 = s_7.select('TrackID','Predictor').withColumnRenamed('Predictor','s7')\n",
        "\n",
        "S =S.join(s_7, ['TrackID'],'left').orderBy('TrackID')\n",
        "\n",
        "s_8 = spark.read.csv('p1_84411.csv', header = True, inferSchema = True)\n",
        "s_8 = s_8.select('TrackID','Predictor').withColumnRenamed('Predictor','s8')\n",
        "\n",
        "S =S.join(s_8, ['TrackID'],'left').orderBy('TrackID')\n",
        "\n",
        "s_9 = spark.read.csv('p2_84044.csv', header = True, inferSchema = True)\n",
        "s_9 = s_9.select('TrackID','Predictor').withColumnRenamed('Predictor','s9')\n",
        "\n",
        "S =S.join(s_9, ['TrackID'],'left').orderBy('TrackID')\n",
        "\n",
        "s_10 = spark.read.csv('rforest2_84392.csv', header = True, inferSchema = True)\n",
        "s_10 = s_10.select('TrackID','Predictor').withColumnRenamed('Predictor','s10')\n",
        "\n",
        "S =S.join(s_10, ['TrackID'],'left').orderBy('TrackID')\n",
        "\n",
        "s_11 = spark.read.csv('rforest_61804.csv', header = True, inferSchema = True)\n",
        "s_11 = s_11.select('TrackID','Predictor').withColumnRenamed('Predictor','s11')\n",
        "\n",
        "S =S.join(s_11, ['TrackID'],'left').orderBy('TrackID')\n",
        "\n",
        "s_12 = spark.read.csv('sprk1_52909.csv', header = True, inferSchema = True)\n",
        "s_12 = s_12.select('TrackID','Predictor').withColumnRenamed('Predictor','s12')\n",
        "\n",
        "S =S.join(s_12, ['TrackID'],'left').orderBy('TrackID')\n",
        "\n",
        "s_13 = spark.read.csv('sprk2_24975.csv', header = True, inferSchema = True)\n",
        "s_13 = s_13.select('TrackID','Predictor').withColumnRenamed('Predictor','s13')\n",
        "\n",
        "S =S.join(s_13, ['TrackID'],'left').orderBy('TrackID')\n",
        "\n",
        "s_14 = spark.read.csv('sprk2_69438.csv', header = True, inferSchema = True)\n",
        "s_14 = s_14.select('TrackID','Predictor').withColumnRenamed('Predictor','s14')\n",
        "\n",
        "S =S.join(s_14, ['TrackID'],'left').orderBy('TrackID')\n",
        "\n",
        "s_15 = spark.read.csv('sprk3_80276.csv', header = True, inferSchema = True)\n",
        "s_15 = s_15.select('TrackID','Predictor').withColumnRenamed('Predictor','s15')\n",
        "\n",
        "S =S.join(s_15, ['TrackID'],'left').orderBy('TrackID')\n",
        "\n",
        "s_16 = spark.read.csv('sprk_60536.csv', header = True, inferSchema = True)\n",
        "s_16 = s_16.select('TrackID','Predictor').withColumnRenamed('Predictor','s16')\n",
        "\n",
        "S =S.join(s_16, ['TrackID'],'left').orderBy('TrackID')\n",
        "\n",
        "S.show(5)\n"
      ],
      "metadata": {
        "colab": {
          "base_uri": "https://localhost:8080/"
        },
        "id": "JeQp2HUQvsPP",
        "outputId": "226de6a2-6e3e-4b83-e1b5-843c6961e435"
      },
      "execution_count": null,
      "outputs": [
        {
          "output_type": "stream",
          "name": "stdout",
          "text": [
            "+-------------+---+---+---+---+---+---+---+---+---+---+---+---+---+---+---+---+\n",
            "|      TrackID| s1| s2| s3| s4| s5| s6| s7| s8| s9|s10|s11|s12|s13|s14|s15|s16|\n",
            "+-------------+---+---+---+---+---+---+---+---+---+---+---+---+---+---+---+---+\n",
            "|199810_105760|  1|  0|  0|  1|  1|  1|  1|  1|  1|  1|  0|  0|  0|  0|  1|  1|\n",
            "| 199810_18515|  1|  1|  1|  1|  1|  1|  1|  1|  1|  1|  1|  1|  0|  0|  1|  0|\n",
            "|199810_208019|  1|  0|  0|  0|  0|  0|  0|  0|  0|  0|  0|  0|  1|  1|  0|  0|\n",
            "|199810_242681|  0|  1|  0|  0|  0|  1|  1|  0|  0|  0|  1|  1|  0|  0|  0|  1|\n",
            "| 199810_74139|  0|  1|  1|  0|  0|  0|  0|  1|  1|  1|  1|  1|  1|  1|  1|  1|\n",
            "+-------------+---+---+---+---+---+---+---+---+---+---+---+---+---+---+---+---+\n",
            "only showing top 5 rows\n",
            "\n"
          ]
        }
      ]
    },
    {
      "cell_type": "code",
      "source": [
        "P = np.array([0.84392,0.56969,0.75003,0.83400,0.59588,0.53983,0.56568,0.84411,0.84044,0.84392,0.61804,0.52909,0.24975,0.69438,0.80276,0.60536])\n",
        "print(len(P))\n",
        "\n",
        "summ = np.mean(P)\n",
        "\n",
        "print(summ)"
      ],
      "metadata": {
        "colab": {
          "base_uri": "https://localhost:8080/"
        },
        "id": "TGwnO1Gax6_j",
        "outputId": "65528bc0-9aea-4b87-8a55-b372e8bfaa4c"
      },
      "execution_count": null,
      "outputs": [
        {
          "output_type": "stream",
          "name": "stdout",
          "text": [
            "16\n",
            "0.6704300000000001\n"
          ]
        }
      ]
    },
    {
      "cell_type": "code",
      "source": [
        "Sd = S.na.replace(0, -1) # submission results\n",
        "Sd.show(5)"
      ],
      "metadata": {
        "colab": {
          "base_uri": "https://localhost:8080/"
        },
        "id": "3TO5NOqy-bTU",
        "outputId": "bd006bb4-3778-4faa-a5e7-cbaf645f5152"
      },
      "execution_count": null,
      "outputs": [
        {
          "output_type": "stream",
          "name": "stdout",
          "text": [
            "+-------------+---+---+---+---+---+---+---+---+---+---+---+---+---+---+---+---+\n",
            "|      TrackID| s1| s2| s3| s4| s5| s6| s7| s8| s9|s10|s11|s12|s13|s14|s15|s16|\n",
            "+-------------+---+---+---+---+---+---+---+---+---+---+---+---+---+---+---+---+\n",
            "|199810_105760|  1| -1| -1|  1|  1|  1|  1|  1|  1|  1| -1| -1| -1| -1|  1|  1|\n",
            "| 199810_18515|  1|  1|  1|  1|  1|  1|  1|  1|  1|  1|  1|  1| -1| -1|  1| -1|\n",
            "|199810_208019|  1| -1| -1| -1| -1| -1| -1| -1| -1| -1| -1| -1|  1|  1| -1| -1|\n",
            "|199810_242681| -1|  1| -1| -1| -1|  1|  1| -1| -1| -1|  1|  1| -1| -1| -1|  1|\n",
            "| 199810_74139| -1|  1|  1| -1| -1| -1| -1|  1|  1|  1|  1|  1|  1|  1|  1|  1|\n",
            "+-------------+---+---+---+---+---+---+---+---+---+---+---+---+---+---+---+---+\n",
            "only showing top 5 rows\n",
            "\n"
          ]
        }
      ]
    },
    {
      "cell_type": "code",
      "source": [],
      "metadata": {
        "colab": {
          "base_uri": "https://localhost:8080/",
          "height": 171
        },
        "id": "sc3wGsSH-qmV",
        "outputId": "66f66d92-537c-4f76-a145-88c560711ea4"
      },
      "execution_count": null,
      "outputs": [
        {
          "output_type": "error",
          "ename": "AttributeError",
          "evalue": "ignored",
          "traceback": [
            "\u001b[0;31m---------------------------------------------------------------------------\u001b[0m",
            "\u001b[0;31mAttributeError\u001b[0m                            Traceback (most recent call last)",
            "\u001b[0;32m<ipython-input-37-5a70344a846b>\u001b[0m in \u001b[0;36m<module>\u001b[0;34m()\u001b[0m\n\u001b[0;32m----> 1\u001b[0;31m \u001b[0mSd\u001b[0m\u001b[0;34m.\u001b[0m\u001b[0mprintSchema\u001b[0m\u001b[0;34m(\u001b[0m\u001b[0;34m)\u001b[0m\u001b[0;34m\u001b[0m\u001b[0;34m\u001b[0m\u001b[0m\n\u001b[0m",
            "\u001b[0;31mAttributeError\u001b[0m: 'NoneType' object has no attribute 'printSchema'"
          ]
        }
      ]
    },
    {
      "cell_type": "code",
      "source": [
        "N = 120000 #total number of tracks\n",
        "\n",
        "STx = N*((2*P)-1)\n",
        "print(STx)"
      ],
      "metadata": {
        "colab": {
          "base_uri": "https://localhost:8080/"
        },
        "id": "RSEOjkyF-4gE",
        "outputId": "faba90ab-025d-4825-877a-186673d976ed"
      },
      "execution_count": null,
      "outputs": [
        {
          "output_type": "stream",
          "name": "stdout",
          "text": [
            "[ 82540.8  16725.6  60007.2  80160.   23011.2   9559.2  15763.2  82586.4\n",
            "  81705.6  82540.8  28329.6   6981.6 -60060.   46651.2  72662.4  25286.4]\n"
          ]
        }
      ]
    },
    {
      "cell_type": "code",
      "source": [
        "Spd = Sd.toPandas()\n",
        "Spd = Spd[['s1', 's2', 's3', 's4', 's5', 's6', 's7', 's8', 's9', 's10', 's11', 's12', 's13', 's14', 's15', 's16']].values\n",
        "\n",
        "print(Spd)"
      ],
      "metadata": {
        "colab": {
          "base_uri": "https://localhost:8080/"
        },
        "id": "VIaaGvvLHr_c",
        "outputId": "afc962c1-0b60-47cd-efc4-e4ee5d972eb9"
      },
      "execution_count": null,
      "outputs": [
        {
          "output_type": "stream",
          "name": "stdout",
          "text": [
            "[[ 1 -1 -1 ... -1  1  1]\n",
            " [ 1  1  1 ... -1  1 -1]\n",
            " [ 1 -1 -1 ...  1 -1 -1]\n",
            " ...\n",
            " [-1  1 -1 ...  1 -1 -1]\n",
            " [-1 -1  1 ...  1 -1  1]\n",
            " [-1 -1 -1 ...  1 -1 -1]]\n"
          ]
        }
      ]
    },
    {
      "cell_type": "code",
      "source": [
        "\n",
        "Sm = np.dot(Spd.T, Spd)\n",
        "\n",
        "print(Sm)"
      ],
      "metadata": {
        "colab": {
          "base_uri": "https://localhost:8080/"
        },
        "id": "AiTbDog_CMzI",
        "outputId": "d5e44cca-65c5-4ea2-a5f0-d1fc939da928"
      },
      "execution_count": null,
      "outputs": [
        {
          "output_type": "stream",
          "name": "stdout",
          "text": [
            "[[120000  18276  15176  98548  22744   9348  15812  75784  82288 100656\n",
            "   27236  10164 -59280 -59280  75136  26472]\n",
            " [ 18276 120000  27828  16388  38800  19516  22732  18596  18068  18460\n",
            "   43604   4084 -14388 -14388  13616  12312]\n",
            " [ 15176  27828 120000  14604  42740  10620  13520  13580  14776  15220\n",
            "   36600   4696  -9388  -9388  12780   8560]\n",
            " [ 98548  16388  14604 120000  21936   9124  15420  73868  79068  94504\n",
            "   26432   9356 -57712 -57712  72968  25524]\n",
            " [ 22744  38800  42740  21936 120000  22452  24136  21312  22072  22608\n",
            "   65748   6152 -15268 -15268  20256  13568]\n",
            " [  9348  19516  10620   9124  22452 120000  57496  13988  13728   9272\n",
            "   24064  -9468  -5368  -5368  13444   3544]\n",
            " [ 15812  22732  13520  15420  24136  57496 120000  20004  19572  16288\n",
            "   32864   4340 -11088 -11088  18736  15920]\n",
            " [ 75784  18596  13580  73868  21312  13988  20004 120000  94872  76016\n",
            "   27732   7052 -62224 -62224  72460  22912]\n",
            " [ 82288  18068  14776  79068  22072  13728  19572  94872 120000  84092\n",
            "   27844   7356 -64956 -64956  82932  25352]\n",
            " [100656  18460  15220  94504  22608   9272  16288  76016  84092 120000\n",
            "   27712   9884 -59544 -59544  76460  26476]\n",
            " [ 27236  43604  36600  26432  65748  24064  32864  27732  27844  27712\n",
            "  120000  10128 -19764 -19764  26080  16988]\n",
            " [ 10164   4084   4696   9356   6152  -9468   4340   7052   7356   9884\n",
            "   10128 120000  -5112  -5112   7100  13536]\n",
            " [-59280 -14388  -9388 -57712 -15268  -5368 -11088 -62224 -64956 -59544\n",
            "  -19764  -5112 120000 120000 -64428 -26972]\n",
            " [-59280 -14388  -9388 -57712 -15268  -5368 -11088 -62224 -64956 -59544\n",
            "  -19764  -5112 120000 120000 -64428 -26972]\n",
            " [ 75136  13616  12780  72968  20256  13444  18736  72460  82932  76460\n",
            "   26080   7100 -64428 -64428 120000  24092]\n",
            " [ 26472  12312   8560  25524  13568   3544  15920  22912  25352  26476\n",
            "   16988  13536 -26972 -26972  24092 120000]]\n"
          ]
        }
      ]
    },
    {
      "cell_type": "code",
      "source": [
        "S_inv = np.linalg.inv(Sm)\n",
        "\n",
        "print(S_inv)"
      ],
      "metadata": {
        "colab": {
          "base_uri": "https://localhost:8080/"
        },
        "id": "uXjJSrNyQLtP",
        "outputId": "6e6d1d1f-ee4e-4b0c-caf6-b0402d97fdb9"
      },
      "execution_count": null,
      "outputs": [
        {
          "output_type": "stream",
          "name": "stdout",
          "text": [
            "[[ 1.48615048e-05 -6.60158378e-07 -1.48382077e-07 -1.61798965e-05\n",
            "  -1.62006071e-07  8.63599154e-08  7.13379910e-07 -1.16044097e-06\n",
            "  -5.95300687e-06 -4.04214340e-06 -2.01400981e-06 -5.86440592e-07\n",
            "   1.26292781e+11 -1.26292781e+11  1.17814201e-05  0.00000000e+00]\n",
            " [-4.61690055e-06  1.01012331e-05 -1.04169974e-06 -3.86404942e-06\n",
            "  -1.40695720e-06 -4.49049812e-07 -5.60553445e-07 -2.88434730e-07\n",
            "  -3.16159699e-06  1.69659509e-05 -2.36422250e-06 -1.83036723e-07\n",
            "   1.84311500e+10 -1.84311500e+10  3.55432699e-06  0.00000000e+00]\n",
            " [ 8.65939757e-07 -9.93920710e-07  9.87370121e-06  6.27045671e-07\n",
            "  -2.44659732e-06  6.60553715e-08 -1.01273030e-07  8.83275112e-08\n",
            "  -4.02026712e-07  3.30853573e-07 -1.21866628e-06 -9.44810106e-08\n",
            "  -5.77711269e+09  5.77711269e+09 -9.87499656e-07  0.00000000e+00]\n",
            " [-8.43419329e-06  4.26937555e-07 -2.85557027e-07  2.39008430e-05\n",
            "  -3.32627133e-07 -5.12128329e-08  1.94563686e-07 -1.94542765e-06\n",
            "   3.06786312e-06  2.41609910e-05  3.35981352e-07 -5.35009606e-07\n",
            "   7.94062739e+10 -7.94062739e+10  2.08785334e-05  0.00000000e+00]\n",
            " [-2.32562969e-06 -1.35765830e-06 -2.46354981e-06 -1.25578493e-06\n",
            "   1.29597405e-05 -7.49225733e-07 -7.99617126e-08  2.44199179e-08\n",
            "  -6.56849912e-07  5.85391815e-07 -5.50705182e-06 -1.11592588e-07\n",
            "   1.05308168e+10 -1.05308168e+10  9.88209807e-07  0.00000000e+00]\n",
            " [ 6.58111915e-06 -6.01112575e-07  1.02317376e-07  5.28304343e-06\n",
            "  -7.44966331e-07  1.11280368e-05 -4.90899288e-06 -2.51684871e-07\n",
            "   2.94281768e-06 -1.32163427e-05 -1.86079366e-07  1.21009767e-06\n",
            "  -2.65713611e+10  2.65713611e+10 -4.85164498e-06  0.00000000e+00]\n",
            " [-5.83266869e-06 -4.57548402e-07 -9.81088298e-08 -3.30815827e-06\n",
            "  -1.55326878e-07 -4.88769384e-06  1.13910057e-05 -6.24643169e-07\n",
            "  -3.72660592e-06  1.48767506e-05 -1.90674369e-06 -7.42054902e-07\n",
            "   2.21879385e+10 -2.21879385e+10  3.63787393e-06  0.00000000e+00]\n",
            " [-1.29749897e-05 -5.11087153e-07 -9.59882789e-08 -3.27597241e-05\n",
            "  -9.29867397e-08 -4.76543777e-07 -1.36892809e-06  2.39479004e-05\n",
            "  -2.08255494e-05  3.59483565e-05 -6.49732790e-07  6.01955926e-07\n",
            "   1.05999377e+11 -1.05999377e+11  1.08076838e-05  0.00000000e+00]\n",
            " [-4.09423251e-05  5.01348577e-08 -5.95952599e-07 -1.77240200e-05\n",
            "  -2.61675721e-09 -1.63634192e-07  3.03898696e-07 -1.41228736e-05\n",
            "   1.35607968e-05  4.81187528e-05  3.06113612e-07 -3.27602537e-07\n",
            "   1.12383720e+11 -1.12383720e+11  1.86643182e-05  0.00000000e+00]\n",
            " [-2.95466033e-05 -2.80673319e-07 -2.44970826e-07 -2.43009906e-05\n",
            "  -1.51873074e-07  4.31934613e-07 -3.41535727e-07 -5.94297156e-07\n",
            "  -1.32515798e-05  5.99707272e-05 -6.60127058e-07 -1.46424029e-07\n",
            "   3.75267876e+10 -3.75267876e+10  8.87925087e-06  0.00000000e+00]\n",
            " [-6.23298243e-06 -2.17828726e-06 -1.22256989e-06 -4.31729374e-06\n",
            "  -5.54343472e-06 -2.87520294e-07 -1.64324725e-06 -5.82269250e-07\n",
            "  -1.77320554e-06  9.22380976e-06  1.33244626e-05 -6.32471744e-07\n",
            "   2.26127072e+10 -2.26127072e+10  3.08021005e-06  0.00000000e+00]\n",
            " [-5.42992897e-06  6.86928102e-08 -1.17778300e-07 -2.23274175e-06\n",
            "  -1.10154052e-07  1.22557391e-06 -6.88430826e-07 -1.45927212e-07\n",
            "  -2.77438752e-06  8.67161476e-06 -7.99195431e-07  8.48004379e-06\n",
            "   1.81114741e+10 -1.81114741e+10  2.30204880e-06  0.00000000e+00]\n",
            " [ 1.08060121e+12 -1.32255941e+10  7.93093767e+09  5.68686904e+11\n",
            "   1.14195607e+10 -2.08414817e+10  3.30380194e+10  1.76481323e+10\n",
            "   5.43275274e+11 -1.97238003e+12  4.19870757e+10  2.72577292e+10\n",
            "  -4.11222737e+27  4.11222737e+27 -5.61978793e+11 -1.37438953e+11]\n",
            " [-1.08060121e+12  1.32255941e+10 -7.93093767e+09 -5.68686904e+11\n",
            "  -1.14195607e+10  2.08414817e+10 -3.30380194e+10 -1.76481323e+10\n",
            "  -5.43275274e+11  1.97238003e+12 -4.19870757e+10 -2.72577292e+10\n",
            "   4.11222737e+27 -4.11222737e+27  5.61978793e+11  1.37438953e+11]\n",
            " [-3.01563175e-06  6.02884334e-07 -4.47876051e-09 -2.43976066e-06\n",
            "  -9.37348840e-08 -4.51993923e-07 -4.37878811e-07 -6.83334453e-07\n",
            "  -7.28471905e-06  4.56760254e-08 -5.61630331e-07 -7.26180437e-08\n",
            "   5.42567534e+09 -5.42567534e+09  1.96181906e-05  0.00000000e+00]\n",
            " [ 7.18590363e-05 -1.15997630e-06  4.67345297e-07  3.77226214e-05\n",
            "   5.67401808e-07 -9.65255414e-07  1.30122629e-06  1.31476591e-06\n",
            "   3.60350660e-05 -1.32201536e-04  2.45678565e-06  1.05717627e-06\n",
            "  -2.74877907e+11  2.74877907e+11 -3.77462722e-05  0.00000000e+00]]\n"
          ]
        }
      ]
    },
    {
      "cell_type": "code",
      "source": [
        "a = np.dot(S_inv,STx)\n",
        "\n",
        "print(a)"
      ],
      "metadata": {
        "colab": {
          "base_uri": "https://localhost:8080/"
        },
        "id": "CcQrQwc_OgKz",
        "outputId": "d29c834a-3e87-41c8-a439-0840f25aa3c8"
      },
      "execution_count": null,
      "outputs": [
        {
          "output_type": "stream",
          "name": "stdout",
          "text": [
            "[-1.34768542e+16 -1.96681014e+15  6.16482627e+14 -8.47353878e+15\n",
            " -1.12375610e+15  2.83546183e+15 -2.36770154e+15 -1.13113207e+16\n",
            " -1.19926017e+16 -4.00452854e+15 -2.41302912e+15 -1.93269714e+15\n",
            "  4.38820717e+32 -4.38820717e+32 -5.78980326e+14  2.93325513e+16]\n"
          ]
        }
      ]
    },
    {
      "cell_type": "code",
      "source": [
        "ensoble = np.dot(Spd,a)\n",
        "ensoble = ensoble.reshape(-1, 1)\n",
        "ensoble=pd.DataFrame(ensoble)\n",
        "print(ensoble)"
      ],
      "metadata": {
        "colab": {
          "base_uri": "https://localhost:8080/"
        },
        "id": "7N0w1SH8Q6ex",
        "outputId": "41639c60-6312-4089-eb59-846189fd5024"
      },
      "execution_count": null,
      "outputs": [
        {
          "output_type": "stream",
          "name": "stdout",
          "text": [
            "                   0\n",
            "0       2.783881e+16\n",
            "1       1.644670e+16\n",
            "2      -4.340041e+16\n",
            "3       1.159789e+17\n",
            "4      -8.245571e+16\n",
            "...              ...\n",
            "119995  1.907913e+16\n",
            "119996  1.857479e+16\n",
            "119997 -2.424572e+16\n",
            "119998 -1.907913e+16\n",
            "119999 -1.077578e+16\n",
            "\n",
            "[120000 rows x 1 columns]\n"
          ]
        }
      ]
    },
    {
      "cell_type": "code",
      "source": [],
      "metadata": {
        "id": "X1aiYW4kR-qT"
      },
      "execution_count": null,
      "outputs": []
    },
    {
      "cell_type": "code",
      "source": [
        "Ss = Sd.select('TrackID').toPandas()\n",
        "print(Ss)"
      ],
      "metadata": {
        "colab": {
          "base_uri": "https://localhost:8080/"
        },
        "id": "wB2OqEVWSL6H",
        "outputId": "42d5db6f-473c-41b9-a395-e21a177aeeff"
      },
      "execution_count": null,
      "outputs": [
        {
          "output_type": "stream",
          "name": "stdout",
          "text": [
            "              TrackID\n",
            "0       199810_105760\n",
            "1        199810_18515\n",
            "2       199810_208019\n",
            "3       199810_242681\n",
            "4        199810_74139\n",
            "...               ...\n",
            "119995  249010_186634\n",
            "119996  249010_262811\n",
            "119997  249010_293818\n",
            "119998   249010_72192\n",
            "119999   249010_86104\n",
            "\n",
            "[120000 rows x 1 columns]\n"
          ]
        }
      ]
    },
    {
      "cell_type": "code",
      "source": [
        "Sp = pd.concat([Ss,ensoble], axis=1)\n",
        "Sp = spark.createDataFrame(Sp)\n",
        "Sp = Sp.select(\"trackID\",\"0\").withColumnRenamed('0','Predictor')\n",
        "Sp.show(16)"
      ],
      "metadata": {
        "colab": {
          "base_uri": "https://localhost:8080/"
        },
        "id": "UpAt7nmQSw_T",
        "outputId": "80be4c63-994a-4bf5-d25d-cf3c519fe734"
      },
      "execution_count": null,
      "outputs": [
        {
          "output_type": "stream",
          "name": "stdout",
          "text": [
            "+-------------+--------------------+\n",
            "|      trackID|           Predictor|\n",
            "+-------------+--------------------+\n",
            "|199810_105760|2.783880808321032...|\n",
            "| 199810_18515|1.644670054600919...|\n",
            "|199810_208019|-4.34004089568837...|\n",
            "|199810_242681|1.159789353162734...|\n",
            "| 199810_74139|-8.24557099429869...|\n",
            "|  199810_9903|-3.44083250456222...|\n",
            "|199812_130023| 2.81362527595824E16|\n",
            "|199812_142408|2.031209482031181...|\n",
            "|199812_211361|-2.03120948203118...|\n",
            "|199812_223706|1.746124748881675...|\n",
            "|199812_276940|-2.03120948203118...|\n",
            "| 199812_29189|-2.52854054280873...|\n",
            "|199813_111874|1.258809239315949...|\n",
            "|199813_184173|-4.60978772591954...|\n",
            "|199813_188441|4.344030485015414...|\n",
            "| 199813_20968|-2.03120948203118...|\n",
            "+-------------+--------------------+\n",
            "only showing top 16 rows\n",
            "\n"
          ]
        }
      ]
    },
    {
      "cell_type": "code",
      "source": [
        "predict_f1=Sp.withColumn(\"Predictor\", when(Sp.Predictor <= 3,0).otherwise(1))\n",
        "\n",
        "predict_f1.show(50)\n",
        "print((predict_f1.count(), len(predict_f1.columns)))"
      ],
      "metadata": {
        "colab": {
          "base_uri": "https://localhost:8080/"
        },
        "id": "eqIQf2BnaGWg",
        "outputId": "548d214b-8c24-4f8b-c05c-885156472d33"
      },
      "execution_count": null,
      "outputs": [
        {
          "output_type": "stream",
          "name": "stdout",
          "text": [
            "+-------------+---------+\n",
            "|      trackID|Predictor|\n",
            "+-------------+---------+\n",
            "|199810_105760|        1|\n",
            "| 199810_18515|        1|\n",
            "|199810_208019|        0|\n",
            "|199810_242681|        1|\n",
            "| 199810_74139|        0|\n",
            "|  199810_9903|        0|\n",
            "|199812_130023|        1|\n",
            "|199812_142408|        1|\n",
            "|199812_211361|        0|\n",
            "|199812_223706|        1|\n",
            "|199812_276940|        0|\n",
            "| 199812_29189|        0|\n",
            "|199813_111874|        1|\n",
            "|199813_184173|        0|\n",
            "|199813_188441|        1|\n",
            "| 199813_20968|        0|\n",
            "| 199813_21571|        1|\n",
            "| 199813_79640|        0|\n",
            "|199814_122375|        0|\n",
            "|199814_122429|        0|\n",
            "|199814_189043|        1|\n",
            "|199814_232332|        1|\n",
            "|199814_262193|        0|\n",
            "| 199814_52519|        1|\n",
            "|199815_118841|        0|\n",
            "|199815_129866|        1|\n",
            "|199815_258473|        1|\n",
            "|199815_275682|        1|\n",
            "| 199815_30062|        0|\n",
            "| 199815_64345|        0|\n",
            "|199816_102153|        1|\n",
            "|199816_183464|        0|\n",
            "| 199816_23616|        1|\n",
            "|199816_274758|        0|\n",
            "| 199816_46627|        0|\n",
            "| 199816_81699|        1|\n",
            "|199817_144775|        1|\n",
            "|199817_148603|        0|\n",
            "|199817_200166|        1|\n",
            "|199817_222966|        0|\n",
            "| 199817_83722|        1|\n",
            "| 199817_88745|        0|\n",
            "|199818_106788|        1|\n",
            "|199818_141875|        1|\n",
            "|199818_235999|        1|\n",
            "|199818_283698|        0|\n",
            "|199818_290905|        0|\n",
            "| 199818_59789|        0|\n",
            "|199819_123424|        0|\n",
            "|199819_193003|        1|\n",
            "+-------------+---------+\n",
            "only showing top 50 rows\n",
            "\n",
            "(120000, 2)\n"
          ]
        }
      ]
    },
    {
      "cell_type": "code",
      "source": [
        "predict_f1.toPandas().to_csv('ensoble1.csv',index=False)"
      ],
      "metadata": {
        "id": "_mWGErHcbI4q"
      },
      "execution_count": null,
      "outputs": []
    },
    {
      "cell_type": "code",
      "source": [
        "\n",
        "col_list = ['s1', 's2', 's3', 's4', 's5', 's6', 's7', 's8', 's9', 's10', 's11', 's12', 's13', 's14', 's15', 's16']\n",
        "df2 = S.withColumn('Predictor',sum([f.col(c) for c in col_list]))\n",
        "summed = df2.select('TrackID','Predictor')\n",
        "summed.show(16)"
      ],
      "metadata": {
        "colab": {
          "base_uri": "https://localhost:8080/"
        },
        "id": "omRAiYjdb96D",
        "outputId": "009d5c90-9e0c-4154-a253-69fb103c1277"
      },
      "execution_count": null,
      "outputs": [
        {
          "output_type": "stream",
          "name": "stdout",
          "text": [
            "+-------------+---------+\n",
            "|      TrackID|Predictor|\n",
            "+-------------+---------+\n",
            "|199810_105760|       10|\n",
            "| 199810_18515|       13|\n",
            "|199810_208019|        3|\n",
            "|199810_242681|        6|\n",
            "| 199810_74139|       11|\n",
            "|  199810_9903|        5|\n",
            "|199812_130023|        9|\n",
            "|199812_142408|       13|\n",
            "|199812_211361|        3|\n",
            "|199812_223706|       11|\n",
            "|199812_276940|        3|\n",
            "| 199812_29189|        9|\n",
            "|199813_111874|        4|\n",
            "|199813_184173|       11|\n",
            "|199813_188441|        9|\n",
            "| 199813_20968|        5|\n",
            "+-------------+---------+\n",
            "only showing top 16 rows\n",
            "\n"
          ]
        }
      ]
    },
    {
      "cell_type": "code",
      "source": [
        "predict_f1=Sp.withColumn(\"Predictor\", when(Sp.Predictor >= 4,1).otherwise(0))\n",
        "\n",
        "predict_f1.show(50)\n",
        "print((predict_f1.count(), len(predict_f1.columns)))"
      ],
      "metadata": {
        "colab": {
          "base_uri": "https://localhost:8080/"
        },
        "id": "gLCVVzI3ddis",
        "outputId": "21807fc3-fb94-4120-ff02-6a906a4c9b00"
      },
      "execution_count": null,
      "outputs": [
        {
          "output_type": "stream",
          "name": "stdout",
          "text": [
            "+-------------+---------+\n",
            "|      trackID|Predictor|\n",
            "+-------------+---------+\n",
            "|199810_105760|        1|\n",
            "| 199810_18515|        1|\n",
            "|199810_208019|        0|\n",
            "|199810_242681|        1|\n",
            "| 199810_74139|        0|\n",
            "|  199810_9903|        0|\n",
            "|199812_130023|        1|\n",
            "|199812_142408|        1|\n",
            "|199812_211361|        0|\n",
            "|199812_223706|        1|\n",
            "|199812_276940|        0|\n",
            "| 199812_29189|        0|\n",
            "|199813_111874|        1|\n",
            "|199813_184173|        0|\n",
            "|199813_188441|        1|\n",
            "| 199813_20968|        0|\n",
            "| 199813_21571|        1|\n",
            "| 199813_79640|        0|\n",
            "|199814_122375|        0|\n",
            "|199814_122429|        0|\n",
            "|199814_189043|        1|\n",
            "|199814_232332|        1|\n",
            "|199814_262193|        0|\n",
            "| 199814_52519|        1|\n",
            "|199815_118841|        0|\n",
            "|199815_129866|        1|\n",
            "|199815_258473|        1|\n",
            "|199815_275682|        1|\n",
            "| 199815_30062|        0|\n",
            "| 199815_64345|        0|\n",
            "|199816_102153|        1|\n",
            "|199816_183464|        0|\n",
            "| 199816_23616|        1|\n",
            "|199816_274758|        0|\n",
            "| 199816_46627|        0|\n",
            "| 199816_81699|        1|\n",
            "|199817_144775|        1|\n",
            "|199817_148603|        0|\n",
            "|199817_200166|        1|\n",
            "|199817_222966|        0|\n",
            "| 199817_83722|        1|\n",
            "| 199817_88745|        0|\n",
            "|199818_106788|        1|\n",
            "|199818_141875|        1|\n",
            "|199818_235999|        1|\n",
            "|199818_283698|        0|\n",
            "|199818_290905|        0|\n",
            "| 199818_59789|        0|\n",
            "|199819_123424|        0|\n",
            "|199819_193003|        1|\n",
            "+-------------+---------+\n",
            "only showing top 50 rows\n",
            "\n",
            "(120000, 2)\n"
          ]
        }
      ]
    },
    {
      "cell_type": "code",
      "source": [
        "predict_f1.toPandas().to_csv('summed.csv',index=False)"
      ],
      "metadata": {
        "id": "iLIZ-bU3doPi"
      },
      "execution_count": null,
      "outputs": []
    }
  ]
}