{
  "nbformat": 4,
  "nbformat_minor": 0,
  "metadata": {
    "colab": {
      "provenance": [],
      "authorship_tag": "ABX9TyOmZpV+Z49fwt584yziBs77",
      "include_colab_link": true
    },
    "kernelspec": {
      "name": "python3",
      "display_name": "Python 3"
    },
    "language_info": {
      "name": "python"
    }
  },
  "cells": [
    {
      "cell_type": "markdown",
      "metadata": {
        "id": "view-in-github",
        "colab_type": "text"
      },
      "source": [
        "<a href=\"https://colab.research.google.com/github/CaseySobon/Recommendation-system/blob/main/ALS_fail.ipynb\" target=\"_parent\"><img src=\"https://colab.research.google.com/assets/colab-badge.svg\" alt=\"Open In Colab\"/></a>"
      ]
    },
    {
      "cell_type": "code",
      "execution_count": null,
      "metadata": {
        "id": "i4szFioiQjck"
      },
      "outputs": [],
      "source": [
        "# innstall java\n",
        "!apt-get install openjdk-8-jdk-headless -qq > /dev/null\n",
        "\n",
        "# install spark (change the version number if needed)\n",
        "!wget -q https://archive.apache.org/dist/spark/spark-3.2.1/spark-3.2.1-bin-hadoop3.2.tgz\n",
        "\n",
        "# unzip the spark file to the current folder\n",
        "!tar xf spark-3.2.1-bin-hadoop3.2.tgz\n",
        "\n",
        "# set your spark folder to your system path environment.\n",
        "import os\n",
        "os.environ[\"JAVA_HOME\"] = \"/usr/lib/jvm/java-8-openjdk-amd64\"\n",
        "os.environ[\"SPARK_HOME\"] = \"/content/spark-3.2.1-bin-hadoop3.2\"\n",
        "\n",
        "\n",
        "# install findspark using pip\n",
        "!pip install -q findspark"
      ]
    },
    {
      "cell_type": "code",
      "source": [
        "import findspark\n",
        "\n",
        "findspark.init()\n",
        "\n",
        "from pyspark.sql import SparkSession\n",
        "\n",
        "spark = SparkSession.builder.master(\"local[*]\").getOrCreate()\n",
        "\n",
        "from google.colab import files"
      ],
      "metadata": {
        "id": "7WZ9DdaBRV8j"
      },
      "execution_count": null,
      "outputs": []
    },
    {
      "cell_type": "code",
      "source": [
        "uploaded = files.upload()"
      ],
      "metadata": {
        "colab": {
          "resources": {
            "http://localhost:8080/nbextensions/google.colab/files.js": {
              "data": "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",
              "ok": true,
              "headers": [
                [
                  "content-type",
                  "application/javascript"
                ]
              ],
              "status": 200,
              "status_text": ""
            }
          },
          "base_uri": "https://localhost:8080/",
          "height": 74
        },
        "id": "mazQHCubR9mG",
        "outputId": "13f6ddd3-bf36-4403-f9e5-f902fb4aa36e"
      },
      "execution_count": null,
      "outputs": [
        {
          "output_type": "display_data",
          "data": {
            "text/plain": [
              "<IPython.core.display.HTML object>"
            ],
            "text/html": [
              "\n",
              "     <input type=\"file\" id=\"files-86dc861d-10aa-49b4-9cbd-6d9c8224ef69\" name=\"files[]\" multiple disabled\n",
              "        style=\"border:none\" />\n",
              "     <output id=\"result-86dc861d-10aa-49b4-9cbd-6d9c8224ef69\">\n",
              "      Upload widget is only available when the cell has been executed in the\n",
              "      current browser session. Please rerun this cell to enable.\n",
              "      </output>\n",
              "      <script src=\"/nbextensions/google.colab/files.js\"></script> "
            ]
          },
          "metadata": {}
        },
        {
          "output_type": "stream",
          "name": "stdout",
          "text": [
            "Saving test2_new.txt to test2_new.txt\n"
          ]
        }
      ]
    },
    {
      "cell_type": "code",
      "source": [
        "from pyspark.ml.classification import LogisticRegression\n",
        "from pyspark.ml.feature import OneHotEncoder, StringIndexer, VectorAssembler\n",
        "from pyspark.ml import Pipeline\n",
        "import matplotlib.pyplot as plt\n",
        "import pandas as pd\n",
        "import numpy as np\n",
        "\n",
        "\n",
        "spark = SparkSession.builder.appName('recommend-ML').getOrCreate()\n",
        "\n",
        "df = spark.read.csv('test2_new.txt', header = False, inferSchema = True,sep='|')\n",
        "cols = df.columns\n",
        "sparkDF=df.withColumnRenamed(\"_c0\", \"userID\").withColumnRenamed(\"_c1\", \"trackID\").withColumnRenamed(\"_c2\", \"prediction\")\n",
        "sparkDF.printSchema()\n",
        "sparkDF.show(5)"
      ],
      "metadata": {
        "colab": {
          "base_uri": "https://localhost:8080/"
        },
        "id": "J03MsRcOY49g",
        "outputId": "47dfc6aa-62fd-4aa9-9380-2ecfd0214334"
      },
      "execution_count": null,
      "outputs": [
        {
          "output_type": "stream",
          "name": "stdout",
          "text": [
            "root\n",
            " |-- userID: integer (nullable = true)\n",
            " |-- trackID: integer (nullable = true)\n",
            " |-- prediction: integer (nullable = true)\n",
            "\n",
            "+------+-------+----------+\n",
            "|userID|trackID|prediction|\n",
            "+------+-------+----------+\n",
            "|200031|  30877|         1|\n",
            "|200031|   8244|         1|\n",
            "|200031| 130183|         0|\n",
            "|200031| 198762|         0|\n",
            "|200031|  34503|         1|\n",
            "+------+-------+----------+\n",
            "only showing top 5 rows\n",
            "\n"
          ]
        }
      ]
    },
    {
      "cell_type": "code",
      "source": [
        "x1 = pd.read_csv('testTrack_hierarchy.txt', sep='|', header=None, names=range(14),na_values='None',dtype=str).values\n",
        "\n",
        "x2=pd.DataFrame(x1)\n",
        "x3=x2.fillna(0)\n",
        "x3[:] = x3[:].astype(int)\n",
        "H_DF=spark.createDataFrame(x3).withColumnRenamed(\"0\", \"userID\").withColumnRenamed(\"1\", \"trackID\").withColumnRenamed(\"2\", \"itemID1\")\\\n",
        ".withColumnRenamed(\"3\", \"itemID2\").withColumnRenamed(\"4\", \"itemID3\").withColumnRenamed(\"5\", \"itemID4\").withColumnRenamed(\"6\", \"itemID5\")\\\n",
        ".withColumnRenamed(\"7\", \"itemID6\").withColumnRenamed(\"8\", \"itemID7\").withColumnRenamed(\"9\", \"itemID8\").withColumnRenamed(\"10\", \"itemID9\")\\\n",
        ".withColumnRenamed(\"11\", \"itemID10\").withColumnRenamed(\"12\", \"itemID11\").withColumnRenamed(\"13\", \"itemID12\")\n"
      ],
      "metadata": {
        "id": "IfFdTpwQbXNG"
      },
      "execution_count": null,
      "outputs": []
    },
    {
      "cell_type": "code",
      "source": [
        "H_DF.show(5)"
      ],
      "metadata": {
        "colab": {
          "base_uri": "https://localhost:8080/"
        },
        "id": "3lHWz0R4dYml",
        "outputId": "653a3c71-9af3-4db5-ee2f-3b1732e9dc9b"
      },
      "execution_count": null,
      "outputs": [
        {
          "output_type": "stream",
          "name": "stdout",
          "text": [
            "+------+-------+-------+-------+-------+-------+-------+-------+-------+-------+-------+--------+--------+--------+\n",
            "|userID|trackID|itemID1|itemID2|itemID3|itemID4|itemID5|itemID6|itemID7|itemID8|itemID9|itemID10|itemID11|itemID12|\n",
            "+------+-------+-------+-------+-------+-------+-------+-------+-------+-------+-------+--------+--------+--------+\n",
            "|199810| 208019| 209288|      0|      0|      0|      0|      0|      0|      0|      0|       0|       0|       0|\n",
            "|199810|  74139| 277282| 271146| 113360| 173467| 173655| 192976| 146792|  48505| 133159|       0|       0|       0|\n",
            "|199810|   9903|      0|      0|  33722| 123396|  79926|  73523|      0|      0|      0|       0|       0|       0|\n",
            "|199810| 242681| 190640| 244574|  61215|  17453| 274088|      0|      0|      0|      0|       0|       0|       0|\n",
            "|199810|  18515| 146344|  33168|  19913|  48505| 154024|      0|      0|      0|      0|       0|       0|       0|\n",
            "+------+-------+-------+-------+-------+-------+-------+-------+-------+-------+-------+--------+--------+--------+\n",
            "only showing top 5 rows\n",
            "\n"
          ]
        }
      ]
    },
    {
      "cell_type": "code",
      "source": [
        "from pyspark.sql.functions import array, col, explode, lit, struct\n",
        "from pyspark.sql import DataFrame\n",
        "from typing import Iterable\n",
        "def melt(H_DF: DataFrame, id_vars: Iterable[str], value_vars: Iterable[str], var_name: str=\"variable\", value_name: str=\"value\") -> DataFrame:\n",
        "    \"\"\"Convert :class:`DataFrame` from wide to long format.\"\"\"\n",
        "\n",
        "    # Create array<struct<variable: str, value: ...>>\n",
        "    _vars_and_vals = array(*(struct(lit(c).alias(var_name), col(c).alias(value_name)) for c in value_vars))\n",
        "\n",
        "    # Add to the DataFrame and explode\n",
        "    _tmp = H_DF.withColumn(\"_vars_and_vals\", explode(_vars_and_vals))\n",
        "\n",
        "    cols = id_vars + [col(\"_vars_and_vals\")[x].alias(x) for x in [var_name, value_name]]\n",
        "    return _tmp.select(*cols)\n",
        "\n",
        "sparkP=melt(H_DF,id_vars=['userID','trackID'],value_vars=['itemID1', 'itemID2','itemID3',\\\n",
        "                                                            'itemID4','itemID5', 'itemID6',\\\n",
        "                                                            'itemID7', 'itemID8','itemID9',\\\n",
        "                                                            'itemID10', 'itemID11','itemID12'])\n",
        "\n",
        "sparkP.show(5)"
      ],
      "metadata": {
        "colab": {
          "base_uri": "https://localhost:8080/"
        },
        "id": "I9hHtXpCV_jv",
        "outputId": "69805cab-5c60-44bf-ff5d-414a0621eab0"
      },
      "execution_count": null,
      "outputs": [
        {
          "output_type": "stream",
          "name": "stdout",
          "text": [
            "+------+-------+--------+------+\n",
            "|userID|trackID|variable| value|\n",
            "+------+-------+--------+------+\n",
            "|199810| 208019| itemID1|209288|\n",
            "|199810| 208019| itemID2|     0|\n",
            "|199810| 208019| itemID3|     0|\n",
            "|199810| 208019| itemID4|     0|\n",
            "|199810| 208019| itemID5|     0|\n",
            "+------+-------+--------+------+\n",
            "only showing top 5 rows\n",
            "\n"
          ]
        }
      ]
    },
    {
      "cell_type": "code",
      "source": [
        "df2=sparkP.where(\"value!=0\")\n",
        "df3=df2.withColumnRenamed(\"value\", \"itemID\")\n",
        "\n",
        "print((df3.count(), len(df3.columns)))\n",
        "print((H_DF.count(), len(H_DF.columns)))\n",
        "df3.show(5)"
      ],
      "metadata": {
        "colab": {
          "base_uri": "https://localhost:8080/"
        },
        "id": "AnI3LbzueVXF",
        "outputId": "26ec1462-73c1-48d0-be08-dfb36f955b6e"
      },
      "execution_count": null,
      "outputs": [
        {
          "output_type": "stream",
          "name": "stdout",
          "text": [
            "(630530, 4)\n",
            "(120000, 14)\n",
            "+------+-------+--------+------+\n",
            "|userID|trackID|variable|itemID|\n",
            "+------+-------+--------+------+\n",
            "|199810| 208019| itemID1|209288|\n",
            "|199810|  74139| itemID1|277282|\n",
            "|199810|  74139| itemID2|271146|\n",
            "|199810|  74139| itemID3|113360|\n",
            "|199810|  74139| itemID4|173467|\n",
            "+------+-------+--------+------+\n",
            "only showing top 5 rows\n",
            "\n"
          ]
        }
      ]
    },
    {
      "cell_type": "code",
      "source": [],
      "metadata": {
        "id": "DwV0qR--SULm"
      },
      "execution_count": null,
      "outputs": []
    },
    {
      "cell_type": "code",
      "source": [
        "from pyspark.sql.types import IntegerType\n",
        "\n",
        "ratings = spark.read.csv(\"trainIdx2_matrix.txt\", header = False,sep='|')\n",
        "ratings=ratings.withColumnRenamed(\"_c0\", \"userID\").withColumnRenamed(\"_c1\", \"itemID\").withColumnRenamed(\"_c2\", \"rating\")\n",
        "\n",
        "ratings = ratings.withColumn(\"userID\", ratings[\"userID\"].cast(IntegerType()))\n",
        "ratings = ratings.withColumn(\"itemID\", ratings[\"itemID\"].cast(IntegerType()))\n",
        "ratings = ratings.withColumn(\"rating\", ratings[\"rating\"].cast('float'))\n",
        "\n",
        "ratings.printSchema()\n",
        "ratings.show(5)"
      ],
      "metadata": {
        "colab": {
          "base_uri": "https://localhost:8080/"
        },
        "id": "6NwTgQtYmS7X",
        "outputId": "94fb3d75-7ab3-4615-b422-b5ebf627e351"
      },
      "execution_count": null,
      "outputs": [
        {
          "output_type": "stream",
          "name": "stdout",
          "text": [
            "root\n",
            " |-- userID: integer (nullable = true)\n",
            " |-- itemID: integer (nullable = true)\n",
            " |-- rating: float (nullable = true)\n",
            "\n",
            "+------+------+------+\n",
            "|userID|itemID|rating|\n",
            "+------+------+------+\n",
            "|199808|248969|  90.0|\n",
            "|199808|  2663|  90.0|\n",
            "|199808| 28341|  90.0|\n",
            "|199808| 42563|  90.0|\n",
            "|199808| 59092|  90.0|\n",
            "+------+------+------+\n",
            "only showing top 5 rows\n",
            "\n"
          ]
        }
      ]
    },
    {
      "cell_type": "code",
      "source": [
        "from pyspark.sql import functions as f\n",
        "from pyspark.sql.functions import when,concat_ws\n",
        "\n",
        "merged_rating = df3.join(ratings, ['userID','itemID'],'left').orderBy('userID', ascending=True).fillna(0)\n",
        "merged_rating.show(50)\n"
      ],
      "metadata": {
        "colab": {
          "base_uri": "https://localhost:8080/"
        },
        "id": "_ZkwXu430Lk5",
        "outputId": "0c9df2dd-b320-46a6-d6f8-e656a8ffffc5"
      },
      "execution_count": null,
      "outputs": [
        {
          "output_type": "stream",
          "name": "stdout",
          "text": [
            "+------+------+-------+--------+------+\n",
            "|userID|itemID|trackID|variable|rating|\n",
            "+------+------+-------+--------+------+\n",
            "|199810|190640| 242681| itemID1|   0.0|\n",
            "|199810|154024|  18515| itemID5|   0.0|\n",
            "|199810|173655|  74139| itemID5|   0.0|\n",
            "|199810| 11616| 105760| itemID2|  90.0|\n",
            "|199810| 73523|   9903| itemID6|   0.0|\n",
            "|199810|113360|  74139| itemID3|   0.0|\n",
            "|199810| 48505|  18515| itemID4|   0.0|\n",
            "|199810| 48505| 105760| itemID5|   0.0|\n",
            "|199810|173467| 105760| itemID4|  80.0|\n",
            "|199810|209288| 208019| itemID1|   0.0|\n",
            "|199810| 93458| 105760| itemID1|   0.0|\n",
            "|199810|244574| 242681| itemID2|   0.0|\n",
            "|199810| 48505|  74139| itemID8|   0.0|\n",
            "|199810|271146|  74139| itemID2|   0.0|\n",
            "|199810|131552| 105760| itemID3|  80.0|\n",
            "|199810|277282|  74139| itemID1|   0.0|\n",
            "|199810|146344|  18515| itemID1|   0.0|\n",
            "|199810|133159|  74139| itemID9|   0.0|\n",
            "|199810| 17453| 242681| itemID4|   0.0|\n",
            "|199810| 33722|   9903| itemID3|   0.0|\n",
            "|199810|192976|  74139| itemID6|   0.0|\n",
            "|199810|133159| 105760| itemID6|   0.0|\n",
            "|199810| 61215| 242681| itemID3|   0.0|\n",
            "|199810|123396|   9903| itemID4|   0.0|\n",
            "|199810|146792|  74139| itemID7|   0.0|\n",
            "|199810| 19913|  18515| itemID3|   0.0|\n",
            "|199810|173467|  74139| itemID4|  80.0|\n",
            "|199810| 33168|  18515| itemID2|  70.0|\n",
            "|199810| 79926|   9903| itemID5|   0.0|\n",
            "|199810|274088| 242681| itemID5|   0.0|\n",
            "|199812|139095|  29189| itemID6|   0.0|\n",
            "|199812| 48505|  29189| itemID7|   0.0|\n",
            "|199812|128069| 223706| itemID2| 100.0|\n",
            "|199812|158282| 142408| itemID3|  80.0|\n",
            "|199812|275191| 142408| itemID2| 100.0|\n",
            "|199812| 19913| 130023| itemID6|   0.0|\n",
            "|199812|112725| 142408| itemID1| 100.0|\n",
            "|199812|127464| 211361| itemID1|   0.0|\n",
            "|199812|242383| 142408| itemID5|  80.0|\n",
            "|199812|242383| 130023| itemID4|  80.0|\n",
            "|199812|275191| 130023| itemID2| 100.0|\n",
            "|199812| 19438| 211361| itemID2|   0.0|\n",
            "|199812|201356| 276940| itemID1|   0.0|\n",
            "|199812|287681| 276940| itemID3|   0.0|\n",
            "|199812|207648| 130023| itemID5|   0.0|\n",
            "|199812|226816| 130023| itemID1| 100.0|\n",
            "|199812|104694|  29189| itemID1|   0.0|\n",
            "|199812|279143| 223706| itemID5|   0.0|\n",
            "|199812|207648| 142408| itemID6|   0.0|\n",
            "|199812|207648| 223706| itemID4|   0.0|\n",
            "+------+------+-------+--------+------+\n",
            "only showing top 50 rows\n",
            "\n"
          ]
        }
      ]
    },
    {
      "cell_type": "code",
      "source": [
        "print((merged_rating.count(), len(merged_rating.columns)))\n",
        "merged_rating.show(50)"
      ],
      "metadata": {
        "id": "-pO9S0TmSXjc"
      },
      "execution_count": null,
      "outputs": []
    },
    {
      "cell_type": "code",
      "source": [
        "from pyspark.ml.evaluation import RegressionEvaluator\n",
        "from pyspark.ml.recommendation import ALS\n",
        "\n",
        "als = ALS(\n",
        "    maxIter=10,\n",
        "    rank = 10,\n",
        "    regParam=0.01,\n",
        "    userCol=\"userID\",\n",
        "    itemCol=\"itemID\",\n",
        "    ratingCol=\"rating\",\n",
        "    nonnegative = True,\n",
        "    implicitPrefs = False,\n",
        "    coldStartStrategy=\"nan\"\n",
        ")\n",
        "model = als.fit(merged_rating)\n",
        "predictions = model.transform(merged_rating)\n",
        "predictions.show(50)"
      ],
      "metadata": {
        "colab": {
          "base_uri": "https://localhost:8080/"
        },
        "id": "CfNi90m5nfPm",
        "outputId": "f63db87c-4941-45ee-b852-77dd86e33f37"
      },
      "execution_count": null,
      "outputs": [
        {
          "output_type": "stream",
          "name": "stdout",
          "text": [
            "+------+------+-------+--------+------+-----------+\n",
            "|userID|itemID|trackID|variable|rating| prediction|\n",
            "+------+------+-------+--------+------+-----------+\n",
            "|199810| 11616| 105760| itemID2|  90.0|      79.95|\n",
            "|199810| 17453| 242681| itemID4|   0.0|   8.812636|\n",
            "|199810| 33168|  18515| itemID2|  70.0|  45.179405|\n",
            "|199810| 33722|   9903| itemID3|   0.0|  28.860617|\n",
            "|199810| 61215| 242681| itemID3|   0.0|   4.389797|\n",
            "|199810| 79926|   9903| itemID5|   0.0|  0.1998515|\n",
            "|199810| 93458| 105760| itemID1|   0.0|  22.856178|\n",
            "|199810|131552| 105760| itemID3|  80.0|   62.60923|\n",
            "|199810|133159|  74139| itemID9|   0.0|  0.7684499|\n",
            "|199810|133159| 105760| itemID6|   0.0|  0.7684499|\n",
            "|199810|146792|  74139| itemID7|   0.0| 0.34596816|\n",
            "|199810|173467|  74139| itemID4|  80.0|  81.507545|\n",
            "|199810|173467| 105760| itemID4|  80.0|  81.507545|\n",
            "|199810|209288| 208019| itemID1|   0.0|  3.6575308|\n",
            "|199810|244574| 242681| itemID2|   0.0|  10.383484|\n",
            "|199810|271146|  74139| itemID2|   0.0|   27.40323|\n",
            "|199810|277282|  74139| itemID1|   0.0|        0.0|\n",
            "|199810| 19913|  18515| itemID3|   0.0|  3.8551533|\n",
            "|199810| 48505|  74139| itemID8|   0.0| 0.37478006|\n",
            "|199810| 48505|  18515| itemID4|   0.0| 0.37478006|\n",
            "|199810| 48505| 105760| itemID5|   0.0| 0.37478006|\n",
            "|199810| 73523|   9903| itemID6|   0.0| 0.06423025|\n",
            "|199810|113360|  74139| itemID3|   0.0|  1.8755814|\n",
            "|199810|123396|   9903| itemID4|   0.0| 0.49209476|\n",
            "|199810|146344|  18515| itemID1|   0.0|  20.136683|\n",
            "|199810|154024|  18515| itemID5|   0.0|0.003455535|\n",
            "|199810|173655|  74139| itemID5|   0.0|  1.9895167|\n",
            "|199810|190640| 242681| itemID1|   0.0|  1.5510455|\n",
            "|199810|192976|  74139| itemID6|   0.0| 0.15371613|\n",
            "|199810|274088| 242681| itemID5|   0.0|        0.0|\n",
            "|199812| 19438| 211361| itemID2|   0.0|        0.0|\n",
            "|199812|139095|  29189| itemID6|   0.0|   4.466987|\n",
            "|199812|201356| 276940| itemID1|   0.0|        0.0|\n",
            "|199812|207648| 142408| itemID6|   0.0|    5.01769|\n",
            "|199812|207648| 130023| itemID5|   0.0|    5.01769|\n",
            "|199812|207648| 223706| itemID4|   0.0|    5.01769|\n",
            "|199812|279143| 223706| itemID5|   0.0|   4.892482|\n",
            "|199812| 19913| 130023| itemID6|   0.0|  2.4601736|\n",
            "|199812| 48505| 142408| itemID7|   0.0| 0.24195294|\n",
            "|199812| 48505|  29189| itemID7|   0.0| 0.24195294|\n",
            "|199812| 77904| 211361| itemID3|   0.0|        0.0|\n",
            "|199812|101750| 223706| itemID1|   0.0|        0.0|\n",
            "|199812|104694|  29189| itemID1|   0.0|   3.844092|\n",
            "|199812|112725| 142408| itemID1| 100.0|   75.49529|\n",
            "|199812|127464| 211361| itemID1|   0.0|        0.0|\n",
            "|199812|128069| 223706| itemID2| 100.0|  100.96941|\n",
            "|199812|133159| 142408| itemID8|   0.0| 0.55784947|\n",
            "|199812|133159|  29189| itemID8|   0.0| 0.55784947|\n",
            "|199812|158282| 142408| itemID3|  80.0|   68.18178|\n",
            "|199812|158282| 130023| itemID3|  80.0|   68.18178|\n",
            "+------+------+-------+--------+------+-----------+\n",
            "only showing top 50 rows\n",
            "\n"
          ]
        }
      ]
    },
    {
      "cell_type": "code",
      "source": [
        "H_DF= H_DF.select('userID','trackID')\n",
        "print((H_DF.count(), len(H_DF.columns)))\n"
      ],
      "metadata": {
        "colab": {
          "base_uri": "https://localhost:8080/"
        },
        "id": "-isb1SH86x3T",
        "outputId": "016fc495-13b3-4519-8023-806790ec6c02"
      },
      "execution_count": null,
      "outputs": [
        {
          "output_type": "stream",
          "name": "stdout",
          "text": [
            "(120000, 2)\n"
          ]
        }
      ]
    },
    {
      "cell_type": "code",
      "source": [
        "predict1=predictions.groupBy('userID','trackID',).max('prediction').orderBy('userID')\n",
        "predict1.show(5)\n",
        "predict1=H_DF.join(predict1, ['userID','trackID'],'left').orderBy('userID').fillna(0)\n",
        "print((predict1.count(), len(predict1.columns)))\n"
      ],
      "metadata": {
        "id": "nVljZLQPrYR4",
        "colab": {
          "base_uri": "https://localhost:8080/"
        },
        "outputId": "2a5198e9-fd68-459e-be30-9b39fa3cf848"
      },
      "execution_count": null,
      "outputs": [
        {
          "output_type": "stream",
          "name": "stdout",
          "text": [
            "+------+-------+---------------+\n",
            "|userID|trackID|max(prediction)|\n",
            "+------+-------+---------------+\n",
            "|199810|  18515|      45.179405|\n",
            "|199810|  74139|      81.507545|\n",
            "|199810| 208019|      3.6575308|\n",
            "|199810| 242681|      10.383484|\n",
            "|199810| 105760|      81.507545|\n",
            "+------+-------+---------------+\n",
            "only showing top 5 rows\n",
            "\n",
            "(120000, 3)\n"
          ]
        }
      ]
    },
    {
      "cell_type": "code",
      "source": [
        "from pyspark.sql import functions as f\n",
        "from pyspark.sql.functions import when,concat_ws\n",
        "from pyspark.sql.window import *\n",
        "from pyspark.sql.functions import row_number\n",
        "\n",
        "predict_f=predict1.withColumn(\"row_number\", f.row_number().over(Window.partitionBy(\"userID\").orderBy(\"max(prediction)\")))\n",
        "predict_f1=predict_f.withColumnRenamed(\"row_number\",\"Predictor\")\n",
        "\n",
        "predict_f1.show(6)\n",
        "predict_f1=predict_f1.withColumn(\"Predictor\", when(predict_f1.Predictor >= 4,1).otherwise(0))\n",
        "predict_f1=predict_f1.select(concat_ws('_',predict_f1.userID,predict_f1.trackID).alias(\"TrackID\"),'Predictor')\n",
        "predict_f1.show(6)\n",
        "print((predict_f1.count(), len(predict_f1.columns)))"
      ],
      "metadata": {
        "colab": {
          "base_uri": "https://localhost:8080/"
        },
        "id": "ZkS5-6YN9cp2",
        "outputId": "728e00de-17e7-4327-937a-6514dabbcbcc"
      },
      "execution_count": null,
      "outputs": [
        {
          "output_type": "stream",
          "name": "stdout",
          "text": [
            "+------+-------+---------------+---------+\n",
            "|userID|trackID|max(prediction)|Predictor|\n",
            "+------+-------+---------------+---------+\n",
            "|199810| 208019|      3.6575308|        1|\n",
            "|199810| 242681|      10.383484|        2|\n",
            "|199810|   9903|      28.860617|        3|\n",
            "|199810|  18515|      45.179405|        4|\n",
            "|199810|  74139|      81.507545|        5|\n",
            "|199810| 105760|      81.507545|        6|\n",
            "+------+-------+---------------+---------+\n",
            "only showing top 6 rows\n",
            "\n",
            "+-------------+---------+\n",
            "|      TrackID|Predictor|\n",
            "+-------------+---------+\n",
            "|199810_208019|        0|\n",
            "|199810_242681|        0|\n",
            "|  199810_9903|        0|\n",
            "| 199810_18515|        1|\n",
            "| 199810_74139|        1|\n",
            "|199810_105760|        1|\n",
            "+-------------+---------+\n",
            "only showing top 6 rows\n",
            "\n",
            "(120000, 2)\n"
          ]
        }
      ]
    },
    {
      "cell_type": "code",
      "source": [
        "predict_f1.toPandas().to_csv('myprediction_sprk3.csv',index=False)"
      ],
      "metadata": {
        "id": "Jsha4MxFKYl8"
      },
      "execution_count": null,
      "outputs": []
    },
    {
      "cell_type": "code",
      "source": [
        "merged=merged_rating.groupBy('userID','trackID',).max('rating').orderBy('userID')\n",
        "merged=merged.withColumnRenamed(\"max(rating)\",\"Predictor\")\n",
        "merged.show(16)\n",
        "print((merged.count(), len(merged.columns)))"
      ],
      "metadata": {
        "colab": {
          "base_uri": "https://localhost:8080/"
        },
        "id": "g6wVwu-eL0cS",
        "outputId": "e7e89587-9f2d-4763-c7f5-f9e0675d4b46"
      },
      "execution_count": null,
      "outputs": [
        {
          "output_type": "stream",
          "name": "stdout",
          "text": [
            "+------+-------+---------+\n",
            "|userID|trackID|Predictor|\n",
            "+------+-------+---------+\n",
            "|199810|  74139|     80.0|\n",
            "|199810| 105760|     90.0|\n",
            "|199810|  18515|     70.0|\n",
            "|199810| 208019|      0.0|\n",
            "|199810| 242681|      0.0|\n",
            "|199810|   9903|      0.0|\n",
            "|199812| 211361|      0.0|\n",
            "|199812| 276940|      0.0|\n",
            "|199812| 130023|    100.0|\n",
            "|199812| 223706|    100.0|\n",
            "|199812|  29189|     80.0|\n",
            "|199812| 142408|    100.0|\n",
            "|199813|  20968|     80.0|\n",
            "|199813|  21571|     90.0|\n",
            "|199813|  79640|     90.0|\n",
            "|199813| 184173|     80.0|\n",
            "+------+-------+---------+\n",
            "only showing top 16 rows\n",
            "\n",
            "(119025, 3)\n"
          ]
        }
      ]
    },
    {
      "cell_type": "code",
      "source": [
        "merged_complete=H_DF.join(merged, ['userID','trackID'],'left').orderBy('userID').fillna(0)\n",
        "merged_complete.show(16)"
      ],
      "metadata": {
        "colab": {
          "base_uri": "https://localhost:8080/"
        },
        "id": "EWebcUJAWfe-",
        "outputId": "8778ce5f-f238-4e33-d442-575c4ac08281"
      },
      "execution_count": null,
      "outputs": [
        {
          "output_type": "stream",
          "name": "stdout",
          "text": [
            "+------+-------+---------+\n",
            "|userID|trackID|Predictor|\n",
            "+------+-------+---------+\n",
            "|199810| 208019|      0.0|\n",
            "|199810| 242681|      0.0|\n",
            "|199810| 105760|     90.0|\n",
            "|199810|   9903|      0.0|\n",
            "|199810|  74139|     80.0|\n",
            "|199810|  18515|     70.0|\n",
            "|199812| 130023|    100.0|\n",
            "|199812|  29189|     80.0|\n",
            "|199812| 211361|      0.0|\n",
            "|199812| 223706|    100.0|\n",
            "|199812| 276940|      0.0|\n",
            "|199812| 142408|    100.0|\n",
            "|199813|  20968|     80.0|\n",
            "|199813| 184173|     80.0|\n",
            "|199813| 111874|     80.0|\n",
            "|199813|  79640|     90.0|\n",
            "+------+-------+---------+\n",
            "only showing top 16 rows\n",
            "\n"
          ]
        }
      ]
    },
    {
      "cell_type": "code",
      "source": [
        "merged_complete.toPandas().to_csv('merged_raw.csv',index=False)"
      ],
      "metadata": {
        "id": "pfltrPFhXT6N"
      },
      "execution_count": null,
      "outputs": []
    }
  ]
}