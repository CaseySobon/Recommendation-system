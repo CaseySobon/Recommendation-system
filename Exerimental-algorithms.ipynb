{
  "nbformat": 4,
  "nbformat_minor": 0,
  "metadata": {
    "colab": {
      "provenance": [],
      "authorship_tag": "ABX9TyMa4DLv7wI5NrOPObWFk8ZC",
      "include_colab_link": true
    },
    "kernelspec": {
      "name": "python3",
      "display_name": "Python 3"
    },
    "language_info": {
      "name": "python"
    }
  },
  "cells": [
    {
      "cell_type": "markdown",
      "metadata": {
        "id": "view-in-github",
        "colab_type": "text"
      },
      "source": [
        "<a href=\"https://colab.research.google.com/github/CaseySobon/Recommendation-system/blob/main/Gradient_Boost_for_decision_trees_recommendations.ipynb\" target=\"_parent\"><img src=\"https://colab.research.google.com/assets/colab-badge.svg\" alt=\"Open In Colab\"/></a>"
      ]
    },
    {
      "cell_type": "code",
      "source": [
        "# innstall java\n",
        "!apt-get install openjdk-8-jdk-headless -qq > /dev/null\n",
        "\n",
        "# install spark (change the version number if needed)\n",
        "!wget -q https://archive.apache.org/dist/spark/spark-3.2.1/spark-3.2.1-bin-hadoop3.2.tgz\n",
        "\n",
        "# unzip the spark file to the current folder\n",
        "!tar xf spark-3.2.1-bin-hadoop3.2.tgz\n",
        "\n",
        "# set your spark folder to your system path environment.\n",
        "import os\n",
        "os.environ[\"JAVA_HOME\"] = \"/usr/lib/jvm/java-8-openjdk-amd64\"\n",
        "os.environ[\"SPARK_HOME\"] = \"/content/spark-3.2.1-bin-hadoop3.2\"\n",
        "\n",
        "\n",
        "# install findspark using pip\n",
        "!pip install -q findspark"
      ],
      "metadata": {
        "id": "RYv7gXnq27IS"
      },
      "execution_count": null,
      "outputs": []
    },
    {
      "cell_type": "code",
      "source": [
        "import findspark\n",
        "\n",
        "findspark.init()\n",
        "\n",
        "from pyspark.sql import SparkSession\n",
        "\n",
        "spark = SparkSession.builder.master(\"local[*]\").getOrCreate()\n",
        "\n",
        "from google.colab import files\n",
        "\n",
        "#uploaded = files.upload()"
      ],
      "metadata": {
        "id": "g5CDcQXu3M_A"
      },
      "execution_count": null,
      "outputs": []
    },
    {
      "cell_type": "code",
      "source": [
        "uploaded = files.upload()"
      ],
      "metadata": {
        "colab": {
          "resources": {
            "http://localhost:8080/nbextensions/google.colab/files.js": {
              "data": "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",
              "ok": true,
              "headers": [
                [
                  "content-type",
                  "application/javascript"
                ]
              ],
              "status": 200,
              "status_text": ""
            }
          },
          "base_uri": "https://localhost:8080/",
          "height": 74
        },
        "id": "q79GjrVHGQix",
        "outputId": "d7c83352-f674-4e14-9f08-1982a07660b0"
      },
      "execution_count": null,
      "outputs": [
        {
          "output_type": "display_data",
          "data": {
            "text/plain": [
              "<IPython.core.display.HTML object>"
            ],
            "text/html": [
              "\n",
              "     <input type=\"file\" id=\"files-6f2a6c96-c37a-4ca6-a0f4-850021f09ec9\" name=\"files[]\" multiple disabled\n",
              "        style=\"border:none\" />\n",
              "     <output id=\"result-6f2a6c96-c37a-4ca6-a0f4-850021f09ec9\">\n",
              "      Upload widget is only available when the cell has been executed in the\n",
              "      current browser session. Please rerun this cell to enable.\n",
              "      </output>\n",
              "      <script src=\"/nbextensions/google.colab/files.js\"></script> "
            ]
          },
          "metadata": {}
        },
        {
          "output_type": "stream",
          "name": "stdout",
          "text": [
            "Saving testTrack_hierarchy.txt to testTrack_hierarchy.txt\n"
          ]
        }
      ]
    },
    {
      "cell_type": "code",
      "source": [
        "from pyspark.ml.classification import LogisticRegression\n",
        "\n",
        "spark = SparkSession.builder.appName('recommend-ML').getOrCreate()\n",
        "\n",
        "df = spark.read.csv('predict_matrix2.csv', header = True, inferSchema = True)\n",
        "\n",
        "cols = df.columns\n",
        "df.printSchema()"
      ],
      "metadata": {
        "colab": {
          "base_uri": "https://localhost:8080/"
        },
        "id": "rhhPG77mf1-_",
        "outputId": "3c62b168-4d6a-4c5f-ca78-42cb0252aff7"
      },
      "execution_count": null,
      "outputs": [
        {
          "output_type": "stream",
          "name": "stdout",
          "text": [
            "root\n",
            " |-- userID: integer (nullable = true)\n",
            " |-- trackID: integer (nullable = true)\n",
            " |-- ptrack: double (nullable = true)\n",
            " |-- palbum: double (nullable = true)\n",
            " |-- partist: double (nullable = true)\n",
            " |-- min_pgene: double (nullable = true)\n",
            " |-- max_pgene: double (nullable = true)\n",
            " |-- mean_pgene: double (nullable = true)\n",
            " |-- variance_pgene: double (nullable = true)\n",
            " |-- stddev_pgene: double (nullable = true)\n",
            " |-- Predictor: double (nullable = true)\n",
            "\n"
          ]
        }
      ]
    },
    {
      "cell_type": "code",
      "source": [
        "from pyspark.ml.feature import OneHotEncoder, StringIndexer, VectorAssembler, StringIndexerModel"
      ],
      "metadata": {
        "id": "9JmdUtJ1A8QP"
      },
      "execution_count": null,
      "outputs": []
    },
    {
      "cell_type": "code",
      "source": [
        "numericCols = ['ptrack','palbum', 'partist',  'max_pgene']\n"
      ],
      "metadata": {
        "id": "jmIf9bFZMLXV"
      },
      "execution_count": null,
      "outputs": []
    },
    {
      "cell_type": "code",
      "source": [
        "result_given = spark.read.csv('test2_new.txt',sep='|' , inferSchema = True)\n",
        "result_given = result_given.withColumnRenamed('_c0','userID').withColumnRenamed('_c1','trackID').withColumnRenamed('_c2','recommendation')\n",
        "result_given.show(6)\n",
        "result_given.select('userID').describe().show()"
      ],
      "metadata": {
        "colab": {
          "base_uri": "https://localhost:8080/"
        },
        "id": "i7IsAL6tlV7n",
        "outputId": "a9f5d0fb-c626-437e-f00b-e69547cdb9bc"
      },
      "execution_count": null,
      "outputs": [
        {
          "output_type": "stream",
          "name": "stdout",
          "text": [
            "+------+-------+--------------+\n",
            "|userID|trackID|recommendation|\n",
            "+------+-------+--------------+\n",
            "|200031|  30877|             1|\n",
            "|200031|   8244|             1|\n",
            "|200031| 130183|             0|\n",
            "|200031| 198762|             0|\n",
            "|200031|  34503|             1|\n",
            "|200031| 227283|             0|\n",
            "+------+-------+--------------+\n",
            "only showing top 6 rows\n",
            "\n",
            "+-------+-----------------+\n",
            "|summary|           userID|\n",
            "+-------+-----------------+\n",
            "|  count|             6000|\n",
            "|   mean|       206286.491|\n",
            "| stddev|3515.749299951101|\n",
            "|    min|           200031|\n",
            "|    max|           212234|\n",
            "+-------+-----------------+\n",
            "\n"
          ]
        }
      ]
    },
    {
      "cell_type": "code",
      "source": [
        "training =result_given.join(df, ['userID','trackID'],'left').orderBy('userID')\n",
        "\n",
        "\n",
        "training.show(6)\n",
        "training.select('userID').describe().show()"
      ],
      "metadata": {
        "colab": {
          "base_uri": "https://localhost:8080/"
        },
        "id": "vUqnBg4vln0j",
        "outputId": "57a3c5c2-ef8f-4216-d11e-56ea03c16ff7"
      },
      "execution_count": null,
      "outputs": [
        {
          "output_type": "stream",
          "name": "stdout",
          "text": [
            "+------+-------+--------------+---------+---------+---------+---------+---------+------------------+------------------+------------------+---------+\n",
            "|userID|trackID|recommendation|   ptrack|   palbum|  partist|min_pgene|max_pgene|        mean_pgene|    variance_pgene|      stddev_pgene|Predictor|\n",
            "+------+-------+--------------+---------+---------+---------+---------+---------+------------------+------------------+------------------+---------+\n",
            "|200031| 130183|             0| 81.32569|     20.0|     20.0|59.096783|69.386215| 64.24149894714355|52.936210849795316| 7.275727513437768|      0.0|\n",
            "|200031|  34503|             1| 58.71226| 44.02513|45.541058|51.372997|  69.2446|61.338722229003906| 50.17851274997812| 7.083679322920972|     90.0|\n",
            "|200031|  30877|             1|62.391335|50.321358|  50.6686| 45.27148| 67.92092| 58.83158493041992| 83.00489047663285| 9.110701974965094|     90.0|\n",
            "|200031|   8244|             1|62.807575| 63.34095|47.197838|55.769062| 72.66834|  65.5764274597168| 38.77600371130393| 6.227038117058858|     90.0|\n",
            "|200031| 227283|             0| 76.56662| 74.93448|   75.091|62.759956| 71.40223| 67.70018768310547|10.771526619006178|3.2820003989954323|     90.0|\n",
            "|200031| 198762|             0|60.695976|  65.5294| 68.24199|25.166536| 67.92092| 47.23980188369751|439.59225704069195|20.966455519250076|     90.0|\n",
            "+------+-------+--------------+---------+---------+---------+---------+---------+------------------+------------------+------------------+---------+\n",
            "only showing top 6 rows\n",
            "\n",
            "+-------+-----------------+\n",
            "|summary|           userID|\n",
            "+-------+-----------------+\n",
            "|  count|             6000|\n",
            "|   mean|       206286.491|\n",
            "| stddev|3515.749299951101|\n",
            "|    min|           200031|\n",
            "|    max|           212234|\n",
            "+-------+-----------------+\n",
            "\n"
          ]
        }
      ]
    },
    {
      "cell_type": "code",
      "source": [
        "\n",
        "numericCols = ['ptrack','palbum', 'partist',  'max_pgene','mean_pgene' ,  'min_pgene', 'variance_pgene','stddev_pgene','Predictor']\n",
        "\n",
        "stages = []\n",
        "assemblerInputs =  numericCols\n",
        "assembler = VectorAssembler(inputCols=assemblerInputs, outputCol=\"features\")\n",
        "stages += [assembler]\n",
        "\n",
        "\n"
      ],
      "metadata": {
        "id": "aDnuMTVbRdyv"
      },
      "execution_count": null,
      "outputs": []
    },
    {
      "cell_type": "code",
      "source": [
        "label_stringIdx = StringIndexer(inputCol = 'recommendation', outputCol = 'label')\n",
        "stages += [label_stringIdx]\n"
      ],
      "metadata": {
        "id": "p8_P64xRqeD3"
      },
      "execution_count": null,
      "outputs": []
    },
    {
      "cell_type": "code",
      "source": [
        "from pyspark.ml import Pipeline\n",
        "\n",
        "pipeline = Pipeline(stages = stages)\n",
        "pipelineModel = pipeline.fit(training)\n",
        "training = pipelineModel.transform(training)\n",
        "selectedCols = [ 'label','features'] + cols\n",
        "training = training.select(selectedCols)\n",
        "training.printSchema()\n",
        "training.show(3)"
      ],
      "metadata": {
        "colab": {
          "base_uri": "https://localhost:8080/"
        },
        "id": "DahLOMpOB4Ii",
        "outputId": "f243a6c4-91b7-4a81-fca2-4e90dc3be2ba"
      },
      "execution_count": null,
      "outputs": [
        {
          "output_type": "stream",
          "name": "stdout",
          "text": [
            "root\n",
            " |-- label: double (nullable = false)\n",
            " |-- features: vector (nullable = true)\n",
            " |-- userID: integer (nullable = true)\n",
            " |-- trackID: integer (nullable = true)\n",
            " |-- ptrack: double (nullable = true)\n",
            " |-- palbum: double (nullable = true)\n",
            " |-- partist: double (nullable = true)\n",
            " |-- min_pgene: double (nullable = true)\n",
            " |-- max_pgene: double (nullable = true)\n",
            " |-- mean_pgene: double (nullable = true)\n",
            " |-- variance_pgene: double (nullable = true)\n",
            " |-- stddev_pgene: double (nullable = true)\n",
            " |-- Predictor: double (nullable = true)\n",
            "\n",
            "+-----+--------------------+------+-------+---------+---------+---------+---------+---------+-----------------+------------------+------------------+---------+\n",
            "|label|            features|userID|trackID|   ptrack|   palbum|  partist|min_pgene|max_pgene|       mean_pgene|    variance_pgene|      stddev_pgene|Predictor|\n",
            "+-----+--------------------+------+-------+---------+---------+---------+---------+---------+-----------------+------------------+------------------+---------+\n",
            "|  1.0|[62.807575,63.340...|200031|   8244|62.807575| 63.34095|47.197838|55.769062| 72.66834| 65.5764274597168| 38.77600371130393| 6.227038117058858|     90.0|\n",
            "|  1.0|[62.391335,50.321...|200031|  30877|62.391335|50.321358|  50.6686| 45.27148| 67.92092|58.83158493041992| 83.00489047663285| 9.110701974965094|     90.0|\n",
            "|  0.0|[76.56662,74.9344...|200031| 227283| 76.56662| 74.93448|   75.091|62.759956| 71.40223|67.70018768310547|10.771526619006178|3.2820003989954323|     90.0|\n",
            "+-----+--------------------+------+-------+---------+---------+---------+---------+---------+-----------------+------------------+------------------+---------+\n",
            "only showing top 3 rows\n",
            "\n"
          ]
        }
      ]
    },
    {
      "cell_type": "code",
      "source": [],
      "metadata": {
        "id": "My_h8ukcqoYf"
      },
      "execution_count": null,
      "outputs": []
    },
    {
      "cell_type": "markdown",
      "source": [],
      "metadata": {
        "id": "98v32xIa7m5k"
      }
    },
    {
      "cell_type": "code",
      "source": [
        "import pandas as pd\n",
        "pd.DataFrame(training.take(5), columns=training.columns).transpose()\n",
        "\n"
      ],
      "metadata": {
        "colab": {
          "base_uri": "https://localhost:8080/",
          "height": 518
        },
        "id": "OiO0ttWyYHqk",
        "outputId": "178b1a0f-3669-4cfd-9f3c-34b2e1801900"
      },
      "execution_count": null,
      "outputs": [
        {
          "output_type": "execute_result",
          "data": {
            "text/plain": [
              "                                                                0  \\\n",
              "label                                                         1.0   \n",
              "features        [62.807575, 63.34095, 47.197838, 72.66834, 65....   \n",
              "userID                                                     200031   \n",
              "trackID                                                      8244   \n",
              "ptrack                                                  62.807575   \n",
              "palbum                                                   63.34095   \n",
              "partist                                                 47.197838   \n",
              "min_pgene                                               55.769062   \n",
              "max_pgene                                                72.66834   \n",
              "mean_pgene                                              65.576427   \n",
              "variance_pgene                                          38.776004   \n",
              "stddev_pgene                                             6.227038   \n",
              "Predictor                                                    90.0   \n",
              "\n",
              "                                                                1  \\\n",
              "label                                                         1.0   \n",
              "features        [62.391335, 50.321358, 50.6686, 67.92092, 58.8...   \n",
              "userID                                                     200031   \n",
              "trackID                                                     30877   \n",
              "ptrack                                                  62.391335   \n",
              "palbum                                                  50.321358   \n",
              "partist                                                   50.6686   \n",
              "min_pgene                                                45.27148   \n",
              "max_pgene                                                67.92092   \n",
              "mean_pgene                                              58.831585   \n",
              "variance_pgene                                           83.00489   \n",
              "stddev_pgene                                             9.110702   \n",
              "Predictor                                                    90.0   \n",
              "\n",
              "                                                                2  \\\n",
              "label                                                         0.0   \n",
              "features        [76.56662, 74.93448, 75.091, 71.40223, 67.7001...   \n",
              "userID                                                     200031   \n",
              "trackID                                                    227283   \n",
              "ptrack                                                   76.56662   \n",
              "palbum                                                   74.93448   \n",
              "partist                                                    75.091   \n",
              "min_pgene                                               62.759956   \n",
              "max_pgene                                                71.40223   \n",
              "mean_pgene                                              67.700188   \n",
              "variance_pgene                                          10.771527   \n",
              "stddev_pgene                                                3.282   \n",
              "Predictor                                                    90.0   \n",
              "\n",
              "                                                                3  \\\n",
              "label                                                         1.0   \n",
              "features        [58.71226, 44.02513, 45.541058, 69.2446, 61.33...   \n",
              "userID                                                     200031   \n",
              "trackID                                                     34503   \n",
              "ptrack                                                   58.71226   \n",
              "palbum                                                   44.02513   \n",
              "partist                                                 45.541058   \n",
              "min_pgene                                               51.372997   \n",
              "max_pgene                                                 69.2446   \n",
              "mean_pgene                                              61.338722   \n",
              "variance_pgene                                          50.178513   \n",
              "stddev_pgene                                             7.083679   \n",
              "Predictor                                                    90.0   \n",
              "\n",
              "                                                                4  \n",
              "label                                                         0.0  \n",
              "features        [81.32569, 20.0, 20.0, 69.386215, 64.241498947...  \n",
              "userID                                                     200031  \n",
              "trackID                                                    130183  \n",
              "ptrack                                                   81.32569  \n",
              "palbum                                                       20.0  \n",
              "partist                                                      20.0  \n",
              "min_pgene                                               59.096783  \n",
              "max_pgene                                               69.386215  \n",
              "mean_pgene                                              64.241499  \n",
              "variance_pgene                                          52.936211  \n",
              "stddev_pgene                                             7.275728  \n",
              "Predictor                                                     0.0  "
            ],
            "text/html": [
              "\n",
              "  <div id=\"df-3068ca44-17da-42b1-a10d-1f868dbcf73d\">\n",
              "    <div class=\"colab-df-container\">\n",
              "      <div>\n",
              "<style scoped>\n",
              "    .dataframe tbody tr th:only-of-type {\n",
              "        vertical-align: middle;\n",
              "    }\n",
              "\n",
              "    .dataframe tbody tr th {\n",
              "        vertical-align: top;\n",
              "    }\n",
              "\n",
              "    .dataframe thead th {\n",
              "        text-align: right;\n",
              "    }\n",
              "</style>\n",
              "<table border=\"1\" class=\"dataframe\">\n",
              "  <thead>\n",
              "    <tr style=\"text-align: right;\">\n",
              "      <th></th>\n",
              "      <th>0</th>\n",
              "      <th>1</th>\n",
              "      <th>2</th>\n",
              "      <th>3</th>\n",
              "      <th>4</th>\n",
              "    </tr>\n",
              "  </thead>\n",
              "  <tbody>\n",
              "    <tr>\n",
              "      <th>label</th>\n",
              "      <td>1.0</td>\n",
              "      <td>1.0</td>\n",
              "      <td>0.0</td>\n",
              "      <td>1.0</td>\n",
              "      <td>0.0</td>\n",
              "    </tr>\n",
              "    <tr>\n",
              "      <th>features</th>\n",
              "      <td>[62.807575, 63.34095, 47.197838, 72.66834, 65....</td>\n",
              "      <td>[62.391335, 50.321358, 50.6686, 67.92092, 58.8...</td>\n",
              "      <td>[76.56662, 74.93448, 75.091, 71.40223, 67.7001...</td>\n",
              "      <td>[58.71226, 44.02513, 45.541058, 69.2446, 61.33...</td>\n",
              "      <td>[81.32569, 20.0, 20.0, 69.386215, 64.241498947...</td>\n",
              "    </tr>\n",
              "    <tr>\n",
              "      <th>userID</th>\n",
              "      <td>200031</td>\n",
              "      <td>200031</td>\n",
              "      <td>200031</td>\n",
              "      <td>200031</td>\n",
              "      <td>200031</td>\n",
              "    </tr>\n",
              "    <tr>\n",
              "      <th>trackID</th>\n",
              "      <td>8244</td>\n",
              "      <td>30877</td>\n",
              "      <td>227283</td>\n",
              "      <td>34503</td>\n",
              "      <td>130183</td>\n",
              "    </tr>\n",
              "    <tr>\n",
              "      <th>ptrack</th>\n",
              "      <td>62.807575</td>\n",
              "      <td>62.391335</td>\n",
              "      <td>76.56662</td>\n",
              "      <td>58.71226</td>\n",
              "      <td>81.32569</td>\n",
              "    </tr>\n",
              "    <tr>\n",
              "      <th>palbum</th>\n",
              "      <td>63.34095</td>\n",
              "      <td>50.321358</td>\n",
              "      <td>74.93448</td>\n",
              "      <td>44.02513</td>\n",
              "      <td>20.0</td>\n",
              "    </tr>\n",
              "    <tr>\n",
              "      <th>partist</th>\n",
              "      <td>47.197838</td>\n",
              "      <td>50.6686</td>\n",
              "      <td>75.091</td>\n",
              "      <td>45.541058</td>\n",
              "      <td>20.0</td>\n",
              "    </tr>\n",
              "    <tr>\n",
              "      <th>min_pgene</th>\n",
              "      <td>55.769062</td>\n",
              "      <td>45.27148</td>\n",
              "      <td>62.759956</td>\n",
              "      <td>51.372997</td>\n",
              "      <td>59.096783</td>\n",
              "    </tr>\n",
              "    <tr>\n",
              "      <th>max_pgene</th>\n",
              "      <td>72.66834</td>\n",
              "      <td>67.92092</td>\n",
              "      <td>71.40223</td>\n",
              "      <td>69.2446</td>\n",
              "      <td>69.386215</td>\n",
              "    </tr>\n",
              "    <tr>\n",
              "      <th>mean_pgene</th>\n",
              "      <td>65.576427</td>\n",
              "      <td>58.831585</td>\n",
              "      <td>67.700188</td>\n",
              "      <td>61.338722</td>\n",
              "      <td>64.241499</td>\n",
              "    </tr>\n",
              "    <tr>\n",
              "      <th>variance_pgene</th>\n",
              "      <td>38.776004</td>\n",
              "      <td>83.00489</td>\n",
              "      <td>10.771527</td>\n",
              "      <td>50.178513</td>\n",
              "      <td>52.936211</td>\n",
              "    </tr>\n",
              "    <tr>\n",
              "      <th>stddev_pgene</th>\n",
              "      <td>6.227038</td>\n",
              "      <td>9.110702</td>\n",
              "      <td>3.282</td>\n",
              "      <td>7.083679</td>\n",
              "      <td>7.275728</td>\n",
              "    </tr>\n",
              "    <tr>\n",
              "      <th>Predictor</th>\n",
              "      <td>90.0</td>\n",
              "      <td>90.0</td>\n",
              "      <td>90.0</td>\n",
              "      <td>90.0</td>\n",
              "      <td>0.0</td>\n",
              "    </tr>\n",
              "  </tbody>\n",
              "</table>\n",
              "</div>\n",
              "      <button class=\"colab-df-convert\" onclick=\"convertToInteractive('df-3068ca44-17da-42b1-a10d-1f868dbcf73d')\"\n",
              "              title=\"Convert this dataframe to an interactive table.\"\n",
              "              style=\"display:none;\">\n",
              "        \n",
              "  <svg xmlns=\"http://www.w3.org/2000/svg\" height=\"24px\"viewBox=\"0 0 24 24\"\n",
              "       width=\"24px\">\n",
              "    <path d=\"M0 0h24v24H0V0z\" fill=\"none\"/>\n",
              "    <path d=\"M18.56 5.44l.94 2.06.94-2.06 2.06-.94-2.06-.94-.94-2.06-.94 2.06-2.06.94zm-11 1L8.5 8.5l.94-2.06 2.06-.94-2.06-.94L8.5 2.5l-.94 2.06-2.06.94zm10 10l.94 2.06.94-2.06 2.06-.94-2.06-.94-.94-2.06-.94 2.06-2.06.94z\"/><path d=\"M17.41 7.96l-1.37-1.37c-.4-.4-.92-.59-1.43-.59-.52 0-1.04.2-1.43.59L10.3 9.45l-7.72 7.72c-.78.78-.78 2.05 0 2.83L4 21.41c.39.39.9.59 1.41.59.51 0 1.02-.2 1.41-.59l7.78-7.78 2.81-2.81c.8-.78.8-2.07 0-2.86zM5.41 20L4 18.59l7.72-7.72 1.47 1.35L5.41 20z\"/>\n",
              "  </svg>\n",
              "      </button>\n",
              "      \n",
              "  <style>\n",
              "    .colab-df-container {\n",
              "      display:flex;\n",
              "      flex-wrap:wrap;\n",
              "      gap: 12px;\n",
              "    }\n",
              "\n",
              "    .colab-df-convert {\n",
              "      background-color: #E8F0FE;\n",
              "      border: none;\n",
              "      border-radius: 50%;\n",
              "      cursor: pointer;\n",
              "      display: none;\n",
              "      fill: #1967D2;\n",
              "      height: 32px;\n",
              "      padding: 0 0 0 0;\n",
              "      width: 32px;\n",
              "    }\n",
              "\n",
              "    .colab-df-convert:hover {\n",
              "      background-color: #E2EBFA;\n",
              "      box-shadow: 0px 1px 2px rgba(60, 64, 67, 0.3), 0px 1px 3px 1px rgba(60, 64, 67, 0.15);\n",
              "      fill: #174EA6;\n",
              "    }\n",
              "\n",
              "    [theme=dark] .colab-df-convert {\n",
              "      background-color: #3B4455;\n",
              "      fill: #D2E3FC;\n",
              "    }\n",
              "\n",
              "    [theme=dark] .colab-df-convert:hover {\n",
              "      background-color: #434B5C;\n",
              "      box-shadow: 0px 1px 3px 1px rgba(0, 0, 0, 0.15);\n",
              "      filter: drop-shadow(0px 1px 2px rgba(0, 0, 0, 0.3));\n",
              "      fill: #FFFFFF;\n",
              "    }\n",
              "  </style>\n",
              "\n",
              "      <script>\n",
              "        const buttonEl =\n",
              "          document.querySelector('#df-3068ca44-17da-42b1-a10d-1f868dbcf73d button.colab-df-convert');\n",
              "        buttonEl.style.display =\n",
              "          google.colab.kernel.accessAllowed ? 'block' : 'none';\n",
              "\n",
              "        async function convertToInteractive(key) {\n",
              "          const element = document.querySelector('#df-3068ca44-17da-42b1-a10d-1f868dbcf73d');\n",
              "          const dataTable =\n",
              "            await google.colab.kernel.invokeFunction('convertToInteractive',\n",
              "                                                     [key], {});\n",
              "          if (!dataTable) return;\n",
              "\n",
              "          const docLinkHtml = 'Like what you see? Visit the ' +\n",
              "            '<a target=\"_blank\" href=https://colab.research.google.com/notebooks/data_table.ipynb>data table notebook</a>'\n",
              "            + ' to learn more about interactive tables.';\n",
              "          element.innerHTML = '';\n",
              "          dataTable['output_type'] = 'display_data';\n",
              "          await google.colab.output.renderOutput(dataTable, element);\n",
              "          const docLink = document.createElement('div');\n",
              "          docLink.innerHTML = docLinkHtml;\n",
              "          element.appendChild(docLink);\n",
              "        }\n",
              "      </script>\n",
              "    </div>\n",
              "  </div>\n",
              "  "
            ]
          },
          "metadata": {},
          "execution_count": 251
        }
      ]
    },
    {
      "cell_type": "code",
      "source": [
        "from pyspark.sql.functions import lit\n",
        "\n",
        "df=df.withColumn('recommendation', lit(0))\n",
        "df.show(3)"
      ],
      "metadata": {
        "colab": {
          "base_uri": "https://localhost:8080/"
        },
        "id": "70aBZVS9vb2f",
        "outputId": "ee6f37bd-51ba-4636-865e-ece98ba16f78"
      },
      "execution_count": null,
      "outputs": [
        {
          "output_type": "stream",
          "name": "stdout",
          "text": [
            "+------+-------+---------+---------+---------+---------+---------+-----------------+-----------------+------------------+---------+--------------+\n",
            "|userID|trackID|   ptrack|   palbum|  partist|min_pgene|max_pgene|       mean_pgene|   variance_pgene|      stddev_pgene|Predictor|recommendation|\n",
            "+------+-------+---------+---------+---------+---------+---------+-----------------+-----------------+------------------+---------+--------------+\n",
            "|199810|   9903| 67.05974|     20.0|     20.0|44.256237|59.234833|50.81350135803223| 48.5295511768442|6.9663154663598315|      0.0|             0|\n",
            "|199810| 208019|62.093025|56.200005|     20.0|      0.0|      0.0|              0.0|              0.0|               0.0|      0.0|             0|\n",
            "|199810|  74139| 84.71382| 83.42785|62.185196|25.423084|78.993126|61.31705529349191|364.3708759446474|19.088501144528017|     80.0|             0|\n",
            "+------+-------+---------+---------+---------+---------+---------+-----------------+-----------------+------------------+---------+--------------+\n",
            "only showing top 3 rows\n",
            "\n"
          ]
        }
      ]
    },
    {
      "cell_type": "code",
      "source": [
        "\n",
        "stages = []\n",
        "assemblerInputs =  numericCols\n",
        "assembler = VectorAssembler(inputCols=assemblerInputs, outputCol=\"features\")\n",
        "stages += [assembler]"
      ],
      "metadata": {
        "id": "eLWRUvY6vb5U"
      },
      "execution_count": null,
      "outputs": []
    },
    {
      "cell_type": "code",
      "source": [
        "label_stringIdx = StringIndexer(inputCol = 'recommendation', outputCol = 'label')\n",
        "stages += [label_stringIdx]"
      ],
      "metadata": {
        "id": "JY4_pjFnvcFW"
      },
      "execution_count": null,
      "outputs": []
    },
    {
      "cell_type": "code",
      "source": [
        "pipeline = Pipeline(stages = stages)\n",
        "pipelineModel = pipeline.fit(df)\n",
        "df_test = pipelineModel.transform(df)\n",
        "selectedCols = [ 'label','features'] + cols\n",
        "df_test = df_test.select(selectedCols)\n",
        "df_test.printSchema()\n",
        "df_test.show(3)"
      ],
      "metadata": {
        "colab": {
          "base_uri": "https://localhost:8080/"
        },
        "id": "0OX-WoQ6z9fK",
        "outputId": "5ba21dfe-e9ee-498d-db7c-1d4cb2a51264"
      },
      "execution_count": null,
      "outputs": [
        {
          "output_type": "stream",
          "name": "stdout",
          "text": [
            "root\n",
            " |-- label: double (nullable = false)\n",
            " |-- features: vector (nullable = true)\n",
            " |-- userID: integer (nullable = true)\n",
            " |-- trackID: integer (nullable = true)\n",
            " |-- ptrack: double (nullable = true)\n",
            " |-- palbum: double (nullable = true)\n",
            " |-- partist: double (nullable = true)\n",
            " |-- min_pgene: double (nullable = true)\n",
            " |-- max_pgene: double (nullable = true)\n",
            " |-- mean_pgene: double (nullable = true)\n",
            " |-- variance_pgene: double (nullable = true)\n",
            " |-- stddev_pgene: double (nullable = true)\n",
            " |-- Predictor: double (nullable = true)\n",
            "\n",
            "+-----+--------------------+------+-------+---------+---------+---------+---------+---------+-----------------+-----------------+------------------+---------+\n",
            "|label|            features|userID|trackID|   ptrack|   palbum|  partist|min_pgene|max_pgene|       mean_pgene|   variance_pgene|      stddev_pgene|Predictor|\n",
            "+-----+--------------------+------+-------+---------+---------+---------+---------+---------+-----------------+-----------------+------------------+---------+\n",
            "|  0.0|[67.05974,20.0,20...|199810|   9903| 67.05974|     20.0|     20.0|44.256237|59.234833|50.81350135803223| 48.5295511768442|6.9663154663598315|      0.0|\n",
            "|  0.0|(9,[0,1,2],[62.09...|199810| 208019|62.093025|56.200005|     20.0|      0.0|      0.0|              0.0|              0.0|               0.0|      0.0|\n",
            "|  0.0|[84.71382,83.4278...|199810|  74139| 84.71382| 83.42785|62.185196|25.423084|78.993126|61.31705529349191|364.3708759446474|19.088501144528017|     80.0|\n",
            "+-----+--------------------+------+-------+---------+---------+---------+---------+---------+-----------------+-----------------+------------------+---------+\n",
            "only showing top 3 rows\n",
            "\n"
          ]
        }
      ]
    },
    {
      "cell_type": "code",
      "source": [],
      "metadata": {
        "id": "Ly1cT1OFz9h_"
      },
      "execution_count": null,
      "outputs": []
    },
    {
      "cell_type": "code",
      "source": [],
      "metadata": {
        "id": "hJrmNrhjz9kt"
      },
      "execution_count": null,
      "outputs": []
    },
    {
      "cell_type": "code",
      "source": [],
      "metadata": {
        "id": "-Lz9kEu8z9nI"
      },
      "execution_count": null,
      "outputs": []
    },
    {
      "cell_type": "code",
      "source": [
        "from pyspark.sql.functions import col\n",
        "\n",
        "train = training.where(col(\"userID\").between(202284, 212234))\n",
        "test = training.where(col(\"userID\").between(200031, 202277))\n",
        "print(\"Training Dataset Count: \" + str(train.count()))\n",
        "print(\"Test Dataset Count: \" + str(test.count()))\n"
      ],
      "metadata": {
        "id": "wtQ3CS1cMOXV",
        "colab": {
          "base_uri": "https://localhost:8080/"
        },
        "outputId": "1da64e6d-123d-4fd8-dc9f-f236e75084c8"
      },
      "execution_count": null,
      "outputs": [
        {
          "output_type": "stream",
          "name": "stdout",
          "text": [
            "Training Dataset Count: 4992\n",
            "Test Dataset Count: 1008\n"
          ]
        }
      ]
    },
    {
      "cell_type": "code",
      "source": [
        "# logistic regression in pySpark\n",
        "from pyspark.ml.classification import LogisticRegression\n",
        "\n",
        "lr = LogisticRegression(featuresCol = 'features', labelCol = 'label', maxIter=5)\n",
        "lrModel = lr.fit(train)\n"
      ],
      "metadata": {
        "id": "sFzJXDEeMOH1"
      },
      "execution_count": null,
      "outputs": []
    },
    {
      "cell_type": "code",
      "source": [
        "import matplotlib.pyplot as plt\n",
        "import numpy as np\n",
        "beta = np.sort(lrModel.coefficients)\n",
        "plt.plot(beta)\n",
        "plt.ylabel('Beta Coefficients')\n",
        "plt.show()"
      ],
      "metadata": {
        "id": "TclM_eXi0JRM",
        "colab": {
          "base_uri": "https://localhost:8080/",
          "height": 265
        },
        "outputId": "504bebbd-6cdb-4af9-8a9c-e435abdfb5d9"
      },
      "execution_count": null,
      "outputs": [
        {
          "output_type": "display_data",
          "data": {
            "text/plain": [
              "<Figure size 432x288 with 1 Axes>"
            ],
            "image/png": "[encoded data removed]"
          },
          "metadata": {
            "needs_background": "light"
          }
        }
      ]
    },
    {
      "cell_type": "code",
      "source": [
        "trainingSummary = lrModel.summary\n",
        "roc = trainingSummary.roc.toPandas()\n",
        "plt.plot(roc['FPR'],roc['TPR'])\n",
        "plt.ylabel('False Positive Rate')\n",
        "plt.xlabel('True Positive Rate')\n",
        "plt.title('ROC Curve')\n",
        "plt.show()\n",
        "print('Training set areaUnderROC: ' + str(trainingSummary.areaUnderROC))"
      ],
      "metadata": {
        "colab": {
          "base_uri": "https://localhost:8080/",
          "height": 350
        },
        "id": "CRrAPIhYNP2o",
        "outputId": "b6604607-7a85-4b55-930d-cccb651b87de"
      },
      "execution_count": null,
      "outputs": [
        {
          "output_type": "stream",
          "name": "stderr",
          "text": [
            "/content/spark-3.2.1-bin-hadoop3.2/python/pyspark/sql/context.py:127: FutureWarning: Deprecated in 3.0.0. Use SparkSession.builder.getOrCreate() instead.\n",
            "  FutureWarning\n"
          ]
        },
        {
          "output_type": "display_data",
          "data": {
            "text/plain": [
              "<Figure size 432x288 with 1 Axes>"
            ],
            "image/png": "[encoded data removed]"
          },
          "metadata": {
            "needs_background": "light"
          }
        },
        {
          "output_type": "stream",
          "name": "stdout",
          "text": [
            "Training set areaUnderROC: 0.5545856543546592\n"
          ]
        }
      ]
    },
    {
      "cell_type": "code",
      "source": [],
      "metadata": {
        "id": "TMYy7Cf915nz"
      },
      "execution_count": null,
      "outputs": []
    },
    {
      "cell_type": "code",
      "source": [
        "lr = LogisticRegression(featuresCol = 'features', labelCol = 'label', maxIter=3)\n",
        "linModel = lr.fit(training)"
      ],
      "metadata": {
        "id": "E6AQWGR715yt"
      },
      "execution_count": null,
      "outputs": []
    },
    {
      "cell_type": "code",
      "source": [],
      "metadata": {
        "id": "TImV2QKt152_"
      },
      "execution_count": null,
      "outputs": []
    },
    {
      "cell_type": "code",
      "source": [
        "predictions = lrModel.transform(df)\n",
        "predictions.select('userID', 'trackID', 'probability',\n",
        "                   'rawPrediction', 'prediction' ).show(12)"
      ],
      "metadata": {
        "colab": {
          "base_uri": "https://localhost:8080/"
        },
        "id": "0gTs2F4dr-5g",
        "outputId": "d15e39d3-e3e2-4eef-ff8c-4002b4d92034"
      },
      "execution_count": null,
      "outputs": [
        {
          "output_type": "stream",
          "name": "stdout",
          "text": [
            "+------+-------+--------------------+--------------------+----------+\n",
            "|userID|trackID|         probability|       rawPrediction|prediction|\n",
            "+------+-------+--------------------+--------------------+----------+\n",
            "|199810|   9903|[0.53649639967141...|[0.14624569860239...|       0.0|\n",
            "|199810| 208019|[0.53670799532424...|[0.14709664132957...|       0.0|\n",
            "|199810|  74139|[0.49339995075648...|[-0.0264017304807...|       1.0|\n",
            "|199810|  18515|[0.48225170450936...|[-0.0710230218499...|       1.0|\n",
            "|199810| 242681|[0.46996022747477...|[-0.1203039775017...|       1.0|\n",
            "|199810| 105760|[0.47125468590616...|[-0.1151081858070...|       1.0|\n",
            "|199812| 211361|[0.55730515151793...|[0.23023223515837...|       0.0|\n",
            "|199812| 276940|[0.49499170848155...|[-0.0200338361028...|       1.0|\n",
            "|199812| 142408|[0.45319688947962...|[-0.1877621277528...|       1.0|\n",
            "|199812| 130023|[0.48589349174265...|[-0.0564410114075...|       1.0|\n",
            "|199812| 223706|[0.42498620673091...|[-0.3023373151567...|       1.0|\n",
            "|199812|  29189|[0.45949143122752...|[-0.1623901967856...|       1.0|\n",
            "+------+-------+--------------------+--------------------+----------+\n",
            "only showing top 12 rows\n",
            "\n"
          ]
        }
      ]
    },
    {
      "cell_type": "code",
      "source": [
        "sort_predictions = predictions.select('userID', 'trackID',\n",
        "                                      'label', 'probability',\n",
        "                                      'rawPrediction', 'prediction'\n",
        "                                     ).sort(col(\"userID\").asc(), col(\"probability\").desc())\n",
        "sort_predictions.show(50)\n",
        "\n"
      ],
      "metadata": {
        "id": "2SsOn7s0d4je",
        "colab": {
          "base_uri": "https://localhost:8080/"
        },
        "outputId": "bb9c0789-bc56-40d1-e188-1670e95e11bd"
      },
      "execution_count": null,
      "outputs": [
        {
          "output_type": "stream",
          "name": "stdout",
          "text": [
            "+------+-------+-----+--------------------+--------------------+----------+\n",
            "|userID|trackID|label|         probability|       rawPrediction|prediction|\n",
            "+------+-------+-----+--------------------+--------------------+----------+\n",
            "|199810| 208019|  0.0|[0.53670799532424...|[0.14709664132957...|       0.0|\n",
            "|199810|   9903|  0.0|[0.53649639967141...|[0.14624569860239...|       0.0|\n",
            "|199810|  74139|  0.0|[0.49339995075648...|[-0.0264017304807...|       1.0|\n",
            "|199810|  18515|  0.0|[0.48225170450936...|[-0.0710230218499...|       1.0|\n",
            "|199810| 105760|  0.0|[0.47125468590616...|[-0.1151081858070...|       1.0|\n",
            "|199810| 242681|  0.0|[0.46996022747477...|[-0.1203039775017...|       1.0|\n",
            "|199812| 211361|  0.0|[0.55730515151793...|[0.23023223515837...|       0.0|\n",
            "|199812| 276940|  0.0|[0.49499170848155...|[-0.0200338361028...|       1.0|\n",
            "|199812| 130023|  0.0|[0.48589349174265...|[-0.0564410114075...|       1.0|\n",
            "|199812|  29189|  0.0|[0.45949143122752...|[-0.1623901967856...|       1.0|\n",
            "|199812| 142408|  0.0|[0.45319688947962...|[-0.1877621277528...|       1.0|\n",
            "|199812| 223706|  0.0|[0.42498620673091...|[-0.3023373151567...|       1.0|\n",
            "|199813|  20968|  0.0|[0.52869977854099...|[0.11492544054746...|       0.0|\n",
            "|199813|  79640|  0.0|[0.47515194239553...|[-0.0994741750047...|       1.0|\n",
            "|199813|  21571|  0.0|[0.47048518488523...|[-0.1181966735856...|       1.0|\n",
            "|199813| 184173|  0.0|[0.46739008686036...|[-0.1306250731695...|       1.0|\n",
            "|199813| 111874|  0.0|[0.46385897545945...|[-0.1448166581206...|       1.0|\n",
            "|199813| 188441|  0.0|[0.45840848168868...|[-0.1667513930051...|       1.0|\n",
            "|199814| 122375|  0.0|[0.51657029350430...|[0.06630545552506...|       0.0|\n",
            "|199814|  52519|  0.0|[0.51598027257106...|[0.06394286826259...|       0.0|\n",
            "|199814| 189043|  0.0|[0.50346435541471...|[0.01385764341649...|       0.0|\n",
            "|199814| 232332|  0.0|[0.49413514859063...|[-0.0234604816209...|       1.0|\n",
            "|199814| 122429|  0.0|[0.49106395140475...|[-0.0357480008170...|       1.0|\n",
            "|199814| 262193|  0.0|[0.48754544532240...|[-0.0498285260137...|       1.0|\n",
            "|199815| 129866|  0.0|[0.52599357769845...|[0.10406813220174...|       0.0|\n",
            "|199815| 275682|  0.0|[0.52077439068206...|[0.08314542945914...|       0.0|\n",
            "|199815| 258473|  0.0|[0.51661368870113...|[0.06647922766633...|       0.0|\n",
            "|199815|  64345|  0.0|[0.50755887647117...|[0.03023780960649...|       0.0|\n",
            "|199815| 118841|  0.0|[0.50258842368354...|[0.01035378722780...|       0.0|\n",
            "|199815|  30062|  0.0|[0.49216108707052...|[-0.0313582211095...|       1.0|\n",
            "|199816|  46627|  0.0|[0.51329600436617...|[0.05319655887834...|       0.0|\n",
            "|199816| 274758|  0.0|[0.48344243654947...|[-0.0662544793659...|       1.0|\n",
            "|199816| 102153|  0.0|[0.48270640690619...|[-0.0692019760124...|       1.0|\n",
            "|199816| 183464|  0.0|[0.47734912010665...|[-0.0906655763456...|       1.0|\n",
            "|199816|  81699|  0.0|[0.46033577286982...|[-0.1589909803216...|       1.0|\n",
            "|199816|  23616|  0.0|[0.45955393698216...|[-0.1621385243933...|       1.0|\n",
            "|199817|  88745|  0.0|[0.53549398936482...|[0.14221516730145...|       0.0|\n",
            "|199817|  83722|  0.0|[0.51262021794110...|[0.05049159597526...|       0.0|\n",
            "|199817| 200166|  0.0|[0.50699572539811...|[0.02798472779103...|       0.0|\n",
            "|199817| 144775|  0.0|[0.49822627801567...|[-0.0070949176990...|       1.0|\n",
            "|199817| 222966|  0.0|[0.48346652123623...|[-0.0661580350106...|       1.0|\n",
            "|199817| 148603|  0.0|[0.48247627825543...|[-0.0701236078758...|       1.0|\n",
            "|199818| 290905|  0.0|[0.57565351798050...|[0.30495565231861...|       0.0|\n",
            "|199818| 235999|  0.0|[0.50413319466153...|[0.01653315524077...|       0.0|\n",
            "|199818| 106788|  0.0|[0.50359206265317...|[0.01436849781009...|       0.0|\n",
            "|199818| 141875|  0.0|[0.50086874308455...|[0.00347497583503...|       0.0|\n",
            "|199818|  59789|  0.0|[0.48619531074556...|[-0.0552327941156...|       1.0|\n",
            "|199818| 283698|  0.0|[0.48449906388724...|[-0.0620236201793...|       1.0|\n",
            "|199819| 123424|  0.0|[0.52328446420482...|[0.09320527283569...|       0.0|\n",
            "|199819| 193003|  0.0|[0.51395389496106...|[0.05583007717645...|       0.0|\n",
            "+------+-------+-----+--------------------+--------------------+----------+\n",
            "only showing top 50 rows\n",
            "\n"
          ]
        }
      ]
    },
    {
      "cell_type": "code",
      "source": [
        "from pyspark.sql import functions as f\n",
        "from pyspark.sql.functions import when,concat_ws\n",
        "from pyspark.sql.window import *\n",
        "from pyspark.sql.functions import row_number\n",
        "\n",
        "predict_f = sort_predictions.withColumn(\"row_number\", f.row_number().over(Window.partitionBy(\"userID\").orderBy(\"probability\")))\n",
        "predict_f1=predict_f.withColumnRenamed(\"row_number\",\"Predictor\").orderBy(\"userID\")\n",
        "\n",
        "predict_f1.show(6)\n",
        "predict_f1=predict_f1.withColumn(\"Predictor\", when(predict_f1.Predictor >= 4,0).otherwise(1))\n",
        "predict_f1=predict_f1.select(concat_ws('_',predict_f1.userID,predict_f1.trackID).alias(\"TrackID\"),'Predictor').orderBy(\"userID\")\n",
        "predict_f1.show(6)\n",
        "print((predict_f1.count(), len(predict_f1.columns)))"
      ],
      "metadata": {
        "colab": {
          "base_uri": "https://localhost:8080/"
        },
        "id": "ixvqvlevBR2j",
        "outputId": "893dd08c-7082-4f49-88b8-dd847bee8bb8"
      },
      "execution_count": null,
      "outputs": [
        {
          "output_type": "stream",
          "name": "stdout",
          "text": [
            "+------+-------+-----+--------------------+--------------------+----------+---------+\n",
            "|userID|trackID|label|         probability|       rawPrediction|prediction|Predictor|\n",
            "+------+-------+-----+--------------------+--------------------+----------+---------+\n",
            "|199810| 208019|  0.0|[0.53670799532424...|[0.14709664132957...|       0.0|        6|\n",
            "|199810|   9903|  0.0|[0.53649639967141...|[0.14624569860239...|       0.0|        5|\n",
            "|199810| 242681|  0.0|[0.46996022747477...|[-0.1203039775017...|       1.0|        1|\n",
            "|199810| 105760|  0.0|[0.47125468590616...|[-0.1151081858070...|       1.0|        2|\n",
            "|199810|  74139|  0.0|[0.49339995075648...|[-0.0264017304807...|       1.0|        4|\n",
            "|199810|  18515|  0.0|[0.48225170450936...|[-0.0710230218499...|       1.0|        3|\n",
            "+------+-------+-----+--------------------+--------------------+----------+---------+\n",
            "only showing top 6 rows\n",
            "\n",
            "+-------------+---------+\n",
            "|      TrackID|Predictor|\n",
            "+-------------+---------+\n",
            "|199810_208019|        0|\n",
            "|  199810_9903|        0|\n",
            "|199810_242681|        1|\n",
            "|199810_105760|        1|\n",
            "| 199810_74139|        0|\n",
            "| 199810_18515|        1|\n",
            "+-------------+---------+\n",
            "only showing top 6 rows\n",
            "\n",
            "(120000, 2)\n"
          ]
        }
      ]
    },
    {
      "cell_type": "code",
      "source": [
        "predict_f1.toPandas().to_csv('linear_results.csv',index=False)"
      ],
      "metadata": {
        "id": "kwnTOHHo5-CS"
      },
      "execution_count": null,
      "outputs": []
    },
    {
      "cell_type": "code",
      "source": [
        "df.toPandas().to_csv('full_data.csv',index=False)"
      ],
      "metadata": {
        "id": "O1XU06Og7o-Q"
      },
      "execution_count": null,
      "outputs": []
    },
    {
      "cell_type": "code",
      "source": [
        "training.toPandas().to_csv('training_data.csv',index=False)"
      ],
      "metadata": {
        "id": "TztK_jv78D4R"
      },
      "execution_count": null,
      "outputs": []
    },
    {
      "cell_type": "code",
      "source": [
        "# decision tree classifier in pySpark\n",
        "\n",
        "from pyspark.ml.classification import DecisionTreeClassifier\n",
        "from pyspark.ml.evaluation import BinaryClassificationEvaluator\n",
        "\n",
        "dt = DecisionTreeClassifier(featuresCol = 'features', labelCol = 'label',maxDepth = 10)\n",
        "dtModel = dt.fit(train)\n",
        "predictions = dtModel.transform(test)\n",
        "\n",
        "sort_predictions = predictions.select('userID', 'trackID',\n",
        "                   'label', 'probability',\n",
        "                   'rawPrediction', 'prediction' ).sort(col(\"userID\").asc(), col(\"probability\").desc())\n",
        "\n",
        "sort_predictions.show(6)\n"
      ],
      "metadata": {
        "colab": {
          "base_uri": "https://localhost:8080/"
        },
        "id": "kpkZLP1tZ7qc",
        "outputId": "28d77124-8b79-442c-bde0-58153fa6388a"
      },
      "execution_count": null,
      "outputs": [
        {
          "output_type": "stream",
          "name": "stdout",
          "text": [
            "+------+-------+-----+--------------------+-------------+----------+\n",
            "|userID|trackID|label|         probability|rawPrediction|prediction|\n",
            "+------+-------+-----+--------------------+-------------+----------+\n",
            "|200031| 227283|  0.0|[0.46904024767801...|[303.0,343.0]|       1.0|\n",
            "|200031|  30877|  1.0|[0.42796610169491...|[202.0,270.0]|       1.0|\n",
            "|200031|   8244|  1.0|[0.42796610169491...|[202.0,270.0]|       1.0|\n",
            "|200031| 198762|  0.0|[0.36391437308868...|[357.0,624.0]|       1.0|\n",
            "|200031| 130183|  0.0|[0.34951456310679...|  [36.0,67.0]|       1.0|\n",
            "|200031|  34503|  1.0|[0.30434782608695...|   [7.0,16.0]|       1.0|\n",
            "+------+-------+-----+--------------------+-------------+----------+\n",
            "only showing top 6 rows\n",
            "\n"
          ]
        }
      ]
    },
    {
      "cell_type": "code",
      "source": [
        "evaluator = BinaryClassificationEvaluator()\n",
        "print(\"Test Area Under ROC: \" + str(evaluator.evaluate(predictions,{evaluator.metricName: \"areaUnderROC\"})))"
      ],
      "metadata": {
        "colab": {
          "base_uri": "https://localhost:8080/"
        },
        "id": "JqaLEUlT-cfJ",
        "outputId": "3851223a-48e5-4923-a3a1-b4d53ef441a5"
      },
      "execution_count": null,
      "outputs": [
        {
          "output_type": "stream",
          "name": "stdout",
          "text": [
            "Test Area Under ROC: 0.6071369520030234\n"
          ]
        }
      ]
    },
    {
      "cell_type": "code",
      "source": [
        "trainingSummary = dtModel.summary\n",
        "roc = trainingSummary.roc.toPandas()\n",
        "plt.plot(roc['FPR'],roc['TPR'])\n",
        "plt.ylabel('False Positive Rate')\n",
        "plt.xlabel('True Positive Rate')\n",
        "plt.title('ROC Curve')\n",
        "plt.show()\n",
        "print('Training set areaUnderROC: ' + str(trainingSummary.areaUnderROC))"
      ],
      "metadata": {
        "colab": {
          "base_uri": "https://localhost:8080/",
          "height": 244
        },
        "id": "6g5fSL5txi2e",
        "outputId": "6610826b-ce2c-4f38-8bef-7073c8dbb862"
      },
      "execution_count": null,
      "outputs": [
        {
          "output_type": "error",
          "ename": "AttributeError",
          "evalue": "ignored",
          "traceback": [
            "\u001b[0;31m---------------------------------------------------------------------------\u001b[0m",
            "\u001b[0;31mAttributeError\u001b[0m                            Traceback (most recent call last)",
            "\u001b[0;32m<ipython-input-191-5d8f8bec57be>\u001b[0m in \u001b[0;36m<module>\u001b[0;34m()\u001b[0m\n\u001b[0;32m----> 1\u001b[0;31m \u001b[0mtrainingSummary\u001b[0m \u001b[0;34m=\u001b[0m \u001b[0mdtModel\u001b[0m\u001b[0;34m.\u001b[0m\u001b[0msummary\u001b[0m\u001b[0;34m\u001b[0m\u001b[0;34m\u001b[0m\u001b[0m\n\u001b[0m\u001b[1;32m      2\u001b[0m \u001b[0mroc\u001b[0m \u001b[0;34m=\u001b[0m \u001b[0mtrainingSummary\u001b[0m\u001b[0;34m.\u001b[0m\u001b[0mroc\u001b[0m\u001b[0;34m.\u001b[0m\u001b[0mtoPandas\u001b[0m\u001b[0;34m(\u001b[0m\u001b[0;34m)\u001b[0m\u001b[0;34m\u001b[0m\u001b[0;34m\u001b[0m\u001b[0m\n\u001b[1;32m      3\u001b[0m \u001b[0mplt\u001b[0m\u001b[0;34m.\u001b[0m\u001b[0mplot\u001b[0m\u001b[0;34m(\u001b[0m\u001b[0mroc\u001b[0m\u001b[0;34m[\u001b[0m\u001b[0;34m'FPR'\u001b[0m\u001b[0;34m]\u001b[0m\u001b[0;34m,\u001b[0m\u001b[0mroc\u001b[0m\u001b[0;34m[\u001b[0m\u001b[0;34m'TPR'\u001b[0m\u001b[0;34m]\u001b[0m\u001b[0;34m)\u001b[0m\u001b[0;34m\u001b[0m\u001b[0;34m\u001b[0m\u001b[0m\n\u001b[1;32m      4\u001b[0m \u001b[0mplt\u001b[0m\u001b[0;34m.\u001b[0m\u001b[0mylabel\u001b[0m\u001b[0;34m(\u001b[0m\u001b[0;34m'False Positive Rate'\u001b[0m\u001b[0;34m)\u001b[0m\u001b[0;34m\u001b[0m\u001b[0;34m\u001b[0m\u001b[0m\n\u001b[1;32m      5\u001b[0m \u001b[0mplt\u001b[0m\u001b[0;34m.\u001b[0m\u001b[0mxlabel\u001b[0m\u001b[0;34m(\u001b[0m\u001b[0;34m'True Positive Rate'\u001b[0m\u001b[0;34m)\u001b[0m\u001b[0;34m\u001b[0m\u001b[0;34m\u001b[0m\u001b[0m\n",
            "\u001b[0;31mAttributeError\u001b[0m: 'DecisionTreeClassificationModel' object has no attribute 'summary'"
          ]
        }
      ]
    },
    {
      "cell_type": "code",
      "source": [
        "predict_f = sort_predictions.withColumn(\"row_number\", f.row_number().over(Window.partitionBy(\"userID\").orderBy(\"probability\")))\n",
        "predict_f1=predict_f.withColumnRenamed(\"row_number\",\"Predictor\").orderBy(\"userID\")\n",
        "\n",
        "predict_f1.show(6)\n",
        "predict_f1=predict_f1.withColumn(\"Predictor\", when(predict_f1.Predictor >= 4,0).otherwise(1))\n",
        "predict_f1=predict_f1.select(concat_ws('_',predict_f1.userID,predict_f1.trackID).alias(\"TrackID\"),'Predictor').orderBy(\"userID\")\n",
        "predict_f1.show(6)\n",
        "print((predict_f1.count(), len(predict_f1.columns)))"
      ],
      "metadata": {
        "colab": {
          "base_uri": "https://localhost:8080/"
        },
        "id": "YUd_qGjveyhY",
        "outputId": "dd45d551-5c3e-4944-8c51-58ff38a05e7b"
      },
      "execution_count": null,
      "outputs": [
        {
          "output_type": "stream",
          "name": "stdout",
          "text": [
            "+------+-------+-----+--------------------+-------------+----------+---------+\n",
            "|userID|trackID|label|         probability|rawPrediction|prediction|Predictor|\n",
            "+------+-------+-----+--------------------+-------------+----------+---------+\n",
            "|199810| 208019|  0.0|[0.83333333333333...|   [10.0,2.0]|       0.0|        6|\n",
            "|199810| 105760|  0.0|[0.52694610778443...|  [88.0,79.0]|       0.0|        5|\n",
            "|199810|   9903|  0.0|           [0.0,1.0]|    [0.0,3.0]|       1.0|        1|\n",
            "|199810|  74139|  0.0|[0.46130952380952...|[155.0,181.0]|       1.0|        2|\n",
            "|199810| 242681|  0.0|[0.52694610778443...|  [88.0,79.0]|       0.0|        4|\n",
            "|199810|  18515|  0.0|[0.46130952380952...|[155.0,181.0]|       1.0|        3|\n",
            "+------+-------+-----+--------------------+-------------+----------+---------+\n",
            "only showing top 6 rows\n",
            "\n",
            "+-------------+---------+\n",
            "|      TrackID|Predictor|\n",
            "+-------------+---------+\n",
            "| 199810_74139|        1|\n",
            "|  199810_9903|        1|\n",
            "|199810_242681|        0|\n",
            "|199810_105760|        0|\n",
            "|199810_208019|        0|\n",
            "| 199810_18515|        1|\n",
            "+-------------+---------+\n",
            "only showing top 6 rows\n",
            "\n",
            "(120000, 2)\n"
          ]
        }
      ]
    },
    {
      "cell_type": "code",
      "source": [
        "predict_f1.toPandas().to_csv('dtree_results.csv',index=False)"
      ],
      "metadata": {
        "id": "s2aYexqse6OJ"
      },
      "execution_count": null,
      "outputs": []
    },
    {
      "cell_type": "code",
      "source": [
        "# random forest classifier in pySpark\n",
        "\n",
        "from pyspark.ml.classification import RandomForestClassifier\n",
        "rf = RandomForestClassifier(featuresCol = 'features', labelCol = 'label')\n",
        "rfModel = rf.fit(training)\n",
        "predictions = rfModel.transform(df_test)\n",
        "sort_predictions = predictions.select('userID', 'trackID',\n",
        "                   'label', 'probability',\n",
        "                   'rawPrediction', 'prediction' ).sort(col(\"userID\").asc(), col(\"probability\").desc())\n",
        "sort_predictions.show(6)"
      ],
      "metadata": {
        "colab": {
          "base_uri": "https://localhost:8080/"
        },
        "id": "aXQniZAkfLBC",
        "outputId": "a6afd38f-6af9-4941-9068-00dec1b95aef"
      },
      "execution_count": null,
      "outputs": [
        {
          "output_type": "stream",
          "name": "stdout",
          "text": [
            "+------+-------+-----+--------------------+--------------------+----------+\n",
            "|userID|trackID|label|         probability|       rawPrediction|prediction|\n",
            "+------+-------+-----+--------------------+--------------------+----------+\n",
            "|199810| 242681|  0.0|[0.79304730603838...|[15.8609461207677...|       0.0|\n",
            "|199810|   9903|  0.0|[0.71562737832426...|[14.3125475664852...|       0.0|\n",
            "|199810| 208019|  0.0|[0.70704996808492...|[14.1409993616984...|       0.0|\n",
            "|199810|  18515|  0.0|[0.70314762178519...|[14.0629524357038...|       0.0|\n",
            "|199810|  74139|  0.0|[0.67284363392420...|[13.4568726784841...|       0.0|\n",
            "|199810| 105760|  0.0|[0.11726868788313...|[2.34537375766269...|       1.0|\n",
            "+------+-------+-----+--------------------+--------------------+----------+\n",
            "only showing top 6 rows\n",
            "\n"
          ]
        }
      ]
    },
    {
      "cell_type": "code",
      "source": [
        "predict_f = sort_predictions.withColumn(\"row_number\", f.row_number().over(Window.partitionBy(\"userID\").orderBy(\"probability\")))\n",
        "predict_f1=predict_f.withColumnRenamed(\"row_number\",\"Predictor\").orderBy(\"userID\")\n",
        "\n",
        "predict_f1.show(6)\n",
        "predict_f1=predict_f1.withColumn(\"Predictor\", when(predict_f1.Predictor >= 4,0).otherwise(1))\n",
        "predict_f1=predict_f1.select(concat_ws('_',predict_f1.userID,predict_f1.trackID).alias(\"TrackID\"),'Predictor').orderBy(\"userID\")\n",
        "predict_f1.show(6)\n",
        "print((predict_f1.count(), len(predict_f1.columns)))"
      ],
      "metadata": {
        "colab": {
          "base_uri": "https://localhost:8080/"
        },
        "id": "piO7JpjkfYck",
        "outputId": "2226be76-f453-4aba-8e0e-ec956f4b3063"
      },
      "execution_count": null,
      "outputs": [
        {
          "output_type": "stream",
          "name": "stdout",
          "text": [
            "+------+-------+-----+--------------------+--------------------+----------+---------+\n",
            "|userID|trackID|label|         probability|       rawPrediction|prediction|Predictor|\n",
            "+------+-------+-----+--------------------+--------------------+----------+---------+\n",
            "|199810|  74139|  0.0|[0.67284363392420...|[13.4568726784841...|       0.0|        2|\n",
            "|199810| 105760|  0.0|[0.11726868788313...|[2.34537375766269...|       1.0|        1|\n",
            "|199810| 208019|  0.0|[0.70704996808492...|[14.1409993616984...|       0.0|        4|\n",
            "|199810|   9903|  0.0|[0.71562737832426...|[14.3125475664852...|       0.0|        5|\n",
            "|199810| 242681|  0.0|[0.79304730603838...|[15.8609461207677...|       0.0|        6|\n",
            "|199810|  18515|  0.0|[0.70314762178519...|[14.0629524357038...|       0.0|        3|\n",
            "+------+-------+-----+--------------------+--------------------+----------+---------+\n",
            "only showing top 6 rows\n",
            "\n",
            "+-------------+---------+\n",
            "|      TrackID|Predictor|\n",
            "+-------------+---------+\n",
            "|199810_242681|        0|\n",
            "|  199810_9903|        0|\n",
            "|199810_105760|        1|\n",
            "| 199810_74139|        1|\n",
            "|199810_208019|        0|\n",
            "| 199810_18515|        1|\n",
            "+-------------+---------+\n",
            "only showing top 6 rows\n",
            "\n",
            "(120000, 2)\n"
          ]
        }
      ]
    },
    {
      "cell_type": "code",
      "source": [
        "predict_f1.toPandas().to_csv('rforest_results2.csv',index=False)"
      ],
      "metadata": {
        "id": "GUtfh7L1fbpc"
      },
      "execution_count": null,
      "outputs": []
    },
    {
      "cell_type": "code",
      "source": [
        "# Gradient-Boosted Tree Classifier\n",
        "\n",
        "from pyspark.ml.classification import GBTClassifier\n",
        "gbt = GBTClassifier(maxIter=100)\n",
        "gbtModel = gbt.fit(training)\n",
        "predictions = gbtModel.transform(df_test)\n",
        "sort_predictions = predictions.select('userID', 'trackID',\n",
        "                   'label', 'probability',\n",
        "                   'rawPrediction', 'prediction' ).sort(col(\"userID\").asc(), col(\"probability\").desc())\n",
        "sort_predictions.show(6)"
      ],
      "metadata": {
        "colab": {
          "base_uri": "https://localhost:8080/"
        },
        "id": "pC1Hq80ffvbG",
        "outputId": "3f39e652-d5f8-4d89-c871-186db08dfacf"
      },
      "execution_count": null,
      "outputs": [
        {
          "output_type": "stream",
          "name": "stdout",
          "text": [
            "+------+-------+-----+--------------------+--------------------+----------+\n",
            "|userID|trackID|label|         probability|       rawPrediction|prediction|\n",
            "+------+-------+-----+--------------------+--------------------+----------+\n",
            "|199810| 242681|  0.0|[0.87761478892132...|[0.98501711105625...|       0.0|\n",
            "|199810| 208019|  0.0|[0.80402119208575...|[0.70580954832444...|       0.0|\n",
            "|199810|  74139|  0.0|[0.53723512132737...|[0.07460836867345...|       0.0|\n",
            "|199810|   9903|  0.0|[0.49188407153140...|[-0.0162332827155...|       1.0|\n",
            "|199810|  18515|  0.0|[0.34416570298825...|[-0.3223924624443...|       1.0|\n",
            "|199810| 105760|  0.0|[0.14246486877661...|[-0.8974833565722...|       1.0|\n",
            "+------+-------+-----+--------------------+--------------------+----------+\n",
            "only showing top 6 rows\n",
            "\n"
          ]
        }
      ]
    },
    {
      "cell_type": "code",
      "source": [
        "print(gbt.explainParams())\n"
      ],
      "metadata": {
        "colab": {
          "base_uri": "https://localhost:8080/"
        },
        "id": "qHHmYZnxam8O",
        "outputId": "7db4852f-5a35-4eb4-f9e7-3b494cf98dcf"
      },
      "execution_count": null,
      "outputs": [
        {
          "output_type": "stream",
          "name": "stdout",
          "text": [
            "cacheNodeIds: If false, the algorithm will pass trees to executors to match instances with nodes. If true, the algorithm will cache node IDs for each instance. Caching can speed up training of deeper trees. Users can set how often should the cache be checkpointed or disable it by setting checkpointInterval. (default: False)\n",
            "checkpointInterval: set checkpoint interval (>= 1) or disable checkpoint (-1). E.g. 10 means that the cache will get checkpointed every 10 iterations. Note: this setting will be ignored if the checkpoint directory is not set in the SparkContext. (default: 10)\n",
            "featureSubsetStrategy: The number of features to consider for splits at each tree node. Supported options: 'auto' (choose automatically for task: If numTrees == 1, set to 'all'. If numTrees > 1 (forest), set to 'sqrt' for classification and to 'onethird' for regression), 'all' (use all features), 'onethird' (use 1/3 of the features), 'sqrt' (use sqrt(number of features)), 'log2' (use log2(number of features)), 'n' (when n is in the range (0, 1.0], use n * number of features. When n is in the range (1, number of features), use n features). default = 'auto' (default: all)\n",
            "featuresCol: features column name. (default: features)\n",
            "impurity: Criterion used for information gain calculation (case-insensitive). Supported options: variance (default: variance)\n",
            "labelCol: label column name. (default: label)\n",
            "leafCol: Leaf indices column name. Predicted leaf index of each instance in each tree by preorder. (default: )\n",
            "lossType: Loss function which GBT tries to minimize (case-insensitive). Supported options: logistic (default: logistic)\n",
            "maxBins: Max number of bins for discretizing continuous features.  Must be >=2 and >= number of categories for any categorical feature. (default: 32)\n",
            "maxDepth: Maximum depth of the tree. (>= 0) E.g., depth 0 means 1 leaf node; depth 1 means 1 internal node + 2 leaf nodes. Must be in range [0, 30]. (default: 5)\n",
            "maxIter: max number of iterations (>= 0). (default: 20, current: 100)\n",
            "maxMemoryInMB: Maximum memory in MB allocated to histogram aggregation. If too small, then 1 node will be split per iteration, and its aggregates may exceed this size. (default: 256)\n",
            "minInfoGain: Minimum information gain for a split to be considered at a tree node. (default: 0.0)\n",
            "minInstancesPerNode: Minimum number of instances each child must have after split. If a split causes the left or right child to have fewer than minInstancesPerNode, the split will be discarded as invalid. Should be >= 1. (default: 1)\n",
            "minWeightFractionPerNode: Minimum fraction of the weighted sample count that each child must have after split. If a split causes the fraction of the total weight in the left or right child to be less than minWeightFractionPerNode, the split will be discarded as invalid. Should be in interval [0.0, 0.5). (default: 0.0)\n",
            "predictionCol: prediction column name. (default: prediction)\n",
            "probabilityCol: Column name for predicted class conditional probabilities. Note: Not all models output well-calibrated probability estimates! These probabilities should be treated as confidences, not precise probabilities. (default: probability)\n",
            "rawPredictionCol: raw prediction (a.k.a. confidence) column name. (default: rawPrediction)\n",
            "seed: random seed. (default: 5695162225632359835)\n",
            "stepSize: Step size (a.k.a. learning rate) in interval (0, 1] for shrinking the contribution of each estimator. (default: 0.1)\n",
            "subsamplingRate: Fraction of the training data used for learning each decision tree, in range (0, 1]. (default: 1.0)\n",
            "thresholds: Thresholds in multi-class classification to adjust the probability of predicting each class. Array must have length equal to the number of classes, with values > 0, excepting that at most one value may be 0. The class with largest value p/t is predicted, where p is the original probability of that class and t is the class's threshold. (undefined)\n",
            "validationIndicatorCol: name of the column that indicates whether each row is for training or for validation. False indicates training; true indicates validation. (undefined)\n",
            "validationTol: Threshold for stopping early when fit with validation is used. If the error rate on the validation input changes by less than the validationTol, then learning will stop early (before `maxIter`). This parameter is ignored when fit without validation is used. (default: 0.01)\n",
            "weightCol: weight column name. If this is not set or empty, we treat all instance weights as 1.0. (undefined)\n"
          ]
        }
      ]
    },
    {
      "cell_type": "code",
      "source": [
        "predict_f = sort_predictions.withColumn(\"row_number\", f.row_number().over(Window.partitionBy(\"userID\").orderBy(\"probability\")))\n",
        "predict_f1=predict_f.withColumnRenamed(\"row_number\",\"Predictor\").orderBy(\"userID\")\n",
        "\n",
        "predict_f1.show(6)\n",
        "predict_f1=predict_f1.withColumn(\"Predictor\", when(predict_f1.Predictor >= 4,0).otherwise(1))\n",
        "predict_f1=predict_f1.select(concat_ws('_',predict_f1.userID,predict_f1.trackID).alias(\"TrackID\"),'Predictor').orderBy(\"userID\")\n",
        "predict_f1.show(6)\n",
        "print((predict_f1.count(), len(predict_f1.columns)))"
      ],
      "metadata": {
        "colab": {
          "base_uri": "https://localhost:8080/"
        },
        "id": "wkstHIoef5eM",
        "outputId": "81b0e63e-b3e8-44de-bd75-39a949c8b2df"
      },
      "execution_count": null,
      "outputs": [
        {
          "output_type": "stream",
          "name": "stdout",
          "text": [
            "+------+-------+-----+--------------------+--------------------+----------+---------+\n",
            "|userID|trackID|label|         probability|       rawPrediction|prediction|Predictor|\n",
            "+------+-------+-----+--------------------+--------------------+----------+---------+\n",
            "|199810|  18515|  0.0|[0.34416570298825...|[-0.3223924624443...|       1.0|        2|\n",
            "|199810| 105760|  0.0|[0.14246486877661...|[-0.8974833565722...|       1.0|        1|\n",
            "|199810|  74139|  0.0|[0.53723512132737...|[0.07460836867345...|       0.0|        4|\n",
            "|199810| 208019|  0.0|[0.80402119208575...|[0.70580954832444...|       0.0|        5|\n",
            "|199810| 242681|  0.0|[0.87761478892132...|[0.98501711105625...|       0.0|        6|\n",
            "|199810|   9903|  0.0|[0.49188407153140...|[-0.0162332827155...|       1.0|        3|\n",
            "+------+-------+-----+--------------------+--------------------+----------+---------+\n",
            "only showing top 6 rows\n",
            "\n",
            "+-------------+---------+\n",
            "|      TrackID|Predictor|\n",
            "+-------------+---------+\n",
            "|199810_242681|        0|\n",
            "|199810_208019|        0|\n",
            "|199810_105760|        1|\n",
            "| 199810_18515|        1|\n",
            "| 199810_74139|        0|\n",
            "|  199810_9903|        1|\n",
            "+-------------+---------+\n",
            "only showing top 6 rows\n",
            "\n",
            "(120000, 2)\n"
          ]
        }
      ]
    },
    {
      "cell_type": "code",
      "source": [
        "predict_f1.toPandas().to_csv('gbtree_results2.csv',index=False)"
      ],
      "metadata": {
        "id": "x3VRN1RMf8Gr"
      },
      "execution_count": null,
      "outputs": []
    },
    {
      "cell_type": "code",
      "source": [
        "from pyspark.ml.tuning import ParamGridBuilder, CrossValidator\n",
        "\n",
        "paramGrid = (ParamGridBuilder().addGrid(gbt.maxDepth, [2, 4, 6])\n",
        ".addGrid(gbt.maxBins, [20, 60])\n",
        ".addGrid(gbt.maxIter, [10, 20])\n",
        ".build())\n",
        "cv = CrossValidator(estimator=gbt, estimatorParamMaps=paramGrid,\n",
        "evaluator=evaluator, numFolds=5)\n",
        "\n",
        "cvModel = cv.fit(training)\n",
        "predictions = cvModel.transform(df_test)\n",
        "evaluator.evaluate(predictions)\n"
      ],
      "metadata": {
        "colab": {
          "base_uri": "https://localhost:8080/"
        },
        "id": "SQ52wbGcgOEZ",
        "outputId": "4fb96d54-7f89-4380-c606-bc5830c03348"
      },
      "execution_count": null,
      "outputs": [
        {
          "output_type": "execute_result",
          "data": {
            "text/plain": [
              "0.0"
            ]
          },
          "metadata": {},
          "execution_count": 264
        }
      ]
    },
    {
      "cell_type": "code",
      "source": [
        "sort_predictions = predictions.select('userID', 'trackID',\n",
        "                   'label', 'probability',\n",
        "                   'rawPrediction', 'prediction' ).sort(col(\"userID\").asc(), col(\"probability\").desc())\n",
        "\n",
        "sort_predictions.show(6)"
      ],
      "metadata": {
        "colab": {
          "base_uri": "https://localhost:8080/"
        },
        "id": "MW5mHbKmYmmp",
        "outputId": "2a549644-dd23-48c6-dc9b-cf32d6985616"
      },
      "execution_count": null,
      "outputs": [
        {
          "output_type": "stream",
          "name": "stdout",
          "text": [
            "+------+-------+-----+--------------------+--------------------+----------+\n",
            "|userID|trackID|label|         probability|       rawPrediction|prediction|\n",
            "+------+-------+-----+--------------------+--------------------+----------+\n",
            "|199810| 242681|  0.0|[0.84547539150526...|[0.84977285036034...|       0.0|\n",
            "|199810|  74139|  0.0|[0.78011067588868...|[0.63315572711754...|       0.0|\n",
            "|199810|   9903|  0.0|[0.66355207964847...|[0.33958198726977...|       0.0|\n",
            "|199810| 208019|  0.0|[0.61105955349547...|[0.22588409261908...|       0.0|\n",
            "|199810|  18515|  0.0|[0.37504079812650...|[-0.2553257777733...|       1.0|\n",
            "|199810| 105760|  0.0|[0.13821644069339...|[-0.9150916402680...|       1.0|\n",
            "+------+-------+-----+--------------------+--------------------+----------+\n",
            "only showing top 6 rows\n",
            "\n"
          ]
        }
      ]
    },
    {
      "cell_type": "code",
      "source": [
        "predict_f = sort_predictions.withColumn(\"row_number\", f.row_number().over(Window.partitionBy(\"userID\").orderBy(\"probability\")))\n",
        "predict_f1=predict_f.withColumnRenamed(\"row_number\",\"Predictor\").orderBy(\"userID\")\n",
        "\n",
        "predict_f1.show(6)\n",
        "predict_f1=predict_f1.withColumn(\"Predictor\", when(predict_f1.Predictor >= 4,0).otherwise(1))\n",
        "predict_f1=predict_f1.select(concat_ws('_',predict_f1.userID,predict_f1.trackID).alias(\"TrackID\"),'Predictor').orderBy(\"userID\")\n",
        "predict_f1.show(6)\n",
        "print((predict_f1.count(), len(predict_f1.columns)))"
      ],
      "metadata": {
        "colab": {
          "base_uri": "https://localhost:8080/"
        },
        "id": "VL1DEt5zYzcH",
        "outputId": "ac3e6da3-8145-4c26-9fe7-2fb1e6f4bc99"
      },
      "execution_count": null,
      "outputs": [
        {
          "output_type": "stream",
          "name": "stdout",
          "text": [
            "+------+-------+-----+--------------------+--------------------+----------+---------+\n",
            "|userID|trackID|label|         probability|       rawPrediction|prediction|Predictor|\n",
            "+------+-------+-----+--------------------+--------------------+----------+---------+\n",
            "|199810|  18515|  0.0|[0.37504079812650...|[-0.2553257777733...|       1.0|        2|\n",
            "|199810| 105760|  0.0|[0.13821644069339...|[-0.9150916402680...|       1.0|        1|\n",
            "|199810|   9903|  0.0|[0.66355207964847...|[0.33958198726977...|       0.0|        4|\n",
            "|199810|  74139|  0.0|[0.78011067588868...|[0.63315572711754...|       0.0|        5|\n",
            "|199810| 242681|  0.0|[0.84547539150526...|[0.84977285036034...|       0.0|        6|\n",
            "|199810| 208019|  0.0|[0.61105955349547...|[0.22588409261908...|       0.0|        3|\n",
            "+------+-------+-----+--------------------+--------------------+----------+---------+\n",
            "only showing top 6 rows\n",
            "\n",
            "+-------------+---------+\n",
            "|      TrackID|Predictor|\n",
            "+-------------+---------+\n",
            "| 199810_18515|        1|\n",
            "|199810_105760|        1|\n",
            "|  199810_9903|        0|\n",
            "| 199810_74139|        0|\n",
            "|199810_242681|        0|\n",
            "|199810_208019|        1|\n",
            "+-------------+---------+\n",
            "only showing top 6 rows\n",
            "\n",
            "(120000, 2)\n"
          ]
        }
      ]
    },
    {
      "cell_type": "code",
      "source": [
        "predict_f1.toPandas().to_csv('cvgbtree_results.csv',index=False)"
      ],
      "metadata": {
        "id": "1MMDmrLkY6yA"
      },
      "execution_count": null,
      "outputs": []
    }
  ]
}
